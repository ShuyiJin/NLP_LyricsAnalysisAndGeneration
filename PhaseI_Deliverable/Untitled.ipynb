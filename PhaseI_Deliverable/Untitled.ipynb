{
 "cells": [
  {
   "cell_type": "code",
   "execution_count": 3,
   "metadata": {},
   "outputs": [
    {
     "data": {
      "text/html": [
       "<div>\n",
       "<style scoped>\n",
       "    .dataframe tbody tr th:only-of-type {\n",
       "        vertical-align: middle;\n",
       "    }\n",
       "\n",
       "    .dataframe tbody tr th {\n",
       "        vertical-align: top;\n",
       "    }\n",
       "\n",
       "    .dataframe thead th {\n",
       "        text-align: right;\n",
       "    }\n",
       "</style>\n",
       "<table border=\"1\" class=\"dataframe\">\n",
       "  <thead>\n",
       "    <tr style=\"text-align: right;\">\n",
       "      <th></th>\n",
       "      <th>album_artist</th>\n",
       "      <th>album_mood</th>\n",
       "      <th>album_title</th>\n",
       "      <th>allmusic_href</th>\n",
       "      <th>lyrics</th>\n",
       "      <th>lyrics_href</th>\n",
       "      <th>track_genres</th>\n",
       "      <th>track_length</th>\n",
       "      <th>track_moods</th>\n",
       "      <th>track_title</th>\n",
       "      <th>track_url</th>\n",
       "    </tr>\n",
       "  </thead>\n",
       "  <tbody>\n",
       "    <tr>\n",
       "      <th>0</th>\n",
       "      <td>Public Enemy</td>\n",
       "      <td>angry</td>\n",
       "      <td>It Takes a Nation of</td>\n",
       "      <td>/album/it-takes-a-nation-of-millions-to-hold-u...</td>\n",
       "      <td>You're blind, baby\\r\\nYou're blind from the fa...</td>\n",
       "      <td>/lyric/1691710/Public+Enemy/She+Watch+Channel+...</td>\n",
       "      <td>['Rap']</td>\n",
       "      <td>3:49</td>\n",
       "      <td>['acerbic', 'aggressive', 'angry', 'bitter', '...</td>\n",
       "      <td>She Watch Channel Zero?!</td>\n",
       "      <td>https://www.allmusic.com/song/she-watch-channe...</td>\n",
       "    </tr>\n",
       "    <tr>\n",
       "      <th>1</th>\n",
       "      <td>Public Enemy</td>\n",
       "      <td>angry</td>\n",
       "      <td>It Takes a Nation of</td>\n",
       "      <td>/album/it-takes-a-nation-of-millions-to-hold-u...</td>\n",
       "      <td>Here it is\\r\\nBam!\\r\\nAnd you say, Goddamn\\r\\n...</td>\n",
       "      <td>/lyric/1691711/Public+Enemy/Night+of+the+Livin...</td>\n",
       "      <td>['Rap']</td>\n",
       "      <td>3:15</td>\n",
       "      <td>['aggressive', 'angry', 'bravado', 'cathartic'...</td>\n",
       "      <td>Night of the Living Baseheads</td>\n",
       "      <td>https://www.allmusic.com/song/night-of-the-liv...</td>\n",
       "    </tr>\n",
       "    <tr>\n",
       "      <th>2</th>\n",
       "      <td>Public Enemy</td>\n",
       "      <td>angry</td>\n",
       "      <td>It Takes a Nation of</td>\n",
       "      <td>/album/it-takes-a-nation-of-millions-to-hold-u...</td>\n",
       "      <td>I got a letter from the government\\r\\r\\nThe ot...</td>\n",
       "      <td>/lyric/1691712/Public+Enemy/Black+Steel+in+the...</td>\n",
       "      <td>['Rap']</td>\n",
       "      <td>6:24</td>\n",
       "      <td>['acerbic', 'aggressive', 'angry', 'bitter', '...</td>\n",
       "      <td>Black Steel in the Hour of Chaos</td>\n",
       "      <td>https://www.allmusic.com/song/black-steel-in-t...</td>\n",
       "    </tr>\n",
       "    <tr>\n",
       "      <th>3</th>\n",
       "      <td>Black Flag</td>\n",
       "      <td>angry</td>\n",
       "      <td>Damaged</td>\n",
       "      <td>/album/damaged-mw0000198777</td>\n",
       "      <td>Jealous cowards try to control\\r\\r\\nRise above...</td>\n",
       "      <td>/lyric/2281475/Black+Flag/Rise+Above</td>\n",
       "      <td>['Pop/Rock']</td>\n",
       "      <td>2:26</td>\n",
       "      <td>['aggressive', 'angry', 'brooding', 'cathartic...</td>\n",
       "      <td>Rise Above</td>\n",
       "      <td>https://www.allmusic.com/song/rise-above-mt000...</td>\n",
       "    </tr>\n",
       "    <tr>\n",
       "      <th>4</th>\n",
       "      <td>Black Flag</td>\n",
       "      <td>angry</td>\n",
       "      <td>Damaged</td>\n",
       "      <td>/album/damaged-mw0000198777</td>\n",
       "      <td>It feels good to say what I want\\r\\r\\nIt feels...</td>\n",
       "      <td>/lyric/2281476/Black+Flag/Spray+Paint</td>\n",
       "      <td>['Pop/Rock']</td>\n",
       "      <td>0:33</td>\n",
       "      <td>['aggressive', 'brooding', 'provocative', 'str...</td>\n",
       "      <td>Spray Paint</td>\n",
       "      <td>https://www.allmusic.com/song/spray-paint-mt00...</td>\n",
       "    </tr>\n",
       "  </tbody>\n",
       "</table>\n",
       "</div>"
      ],
      "text/plain": [
       "   album_artist album_mood            album_title  \\\n",
       "0  Public Enemy      angry  It Takes a Nation of\n",
       "   \n",
       "1  Public Enemy      angry  It Takes a Nation of\n",
       "   \n",
       "2  Public Enemy      angry  It Takes a Nation of\n",
       "   \n",
       "3    Black Flag      angry                Damaged   \n",
       "4    Black Flag      angry                Damaged   \n",
       "\n",
       "                                       allmusic_href  \\\n",
       "0  /album/it-takes-a-nation-of-millions-to-hold-u...   \n",
       "1  /album/it-takes-a-nation-of-millions-to-hold-u...   \n",
       "2  /album/it-takes-a-nation-of-millions-to-hold-u...   \n",
       "3                        /album/damaged-mw0000198777   \n",
       "4                        /album/damaged-mw0000198777   \n",
       "\n",
       "                                              lyrics  \\\n",
       "0  You're blind, baby\\r\\nYou're blind from the fa...   \n",
       "1  Here it is\\r\\nBam!\\r\\nAnd you say, Goddamn\\r\\n...   \n",
       "2  I got a letter from the government\\r\\r\\nThe ot...   \n",
       "3  Jealous cowards try to control\\r\\r\\nRise above...   \n",
       "4  It feels good to say what I want\\r\\r\\nIt feels...   \n",
       "\n",
       "                                         lyrics_href  track_genres  \\\n",
       "0  /lyric/1691710/Public+Enemy/She+Watch+Channel+...       ['Rap']   \n",
       "1  /lyric/1691711/Public+Enemy/Night+of+the+Livin...       ['Rap']   \n",
       "2  /lyric/1691712/Public+Enemy/Black+Steel+in+the...       ['Rap']   \n",
       "3               /lyric/2281475/Black+Flag/Rise+Above  ['Pop/Rock']   \n",
       "4              /lyric/2281476/Black+Flag/Spray+Paint  ['Pop/Rock']   \n",
       "\n",
       "  track_length                                        track_moods  \\\n",
       "0         3:49  ['acerbic', 'aggressive', 'angry', 'bitter', '...   \n",
       "1         3:15  ['aggressive', 'angry', 'bravado', 'cathartic'...   \n",
       "2         6:24  ['acerbic', 'aggressive', 'angry', 'bitter', '...   \n",
       "3         2:26  ['aggressive', 'angry', 'brooding', 'cathartic...   \n",
       "4         0:33  ['aggressive', 'brooding', 'provocative', 'str...   \n",
       "\n",
       "                        track_title  \\\n",
       "0          She Watch Channel Zero?!   \n",
       "1     Night of the Living Baseheads   \n",
       "2  Black Steel in the Hour of Chaos   \n",
       "3                        Rise Above   \n",
       "4                       Spray Paint   \n",
       "\n",
       "                                           track_url  \n",
       "0  https://www.allmusic.com/song/she-watch-channe...  \n",
       "1  https://www.allmusic.com/song/night-of-the-liv...  \n",
       "2  https://www.allmusic.com/song/black-steel-in-t...  \n",
       "3  https://www.allmusic.com/song/rise-above-mt000...  \n",
       "4  https://www.allmusic.com/song/spray-paint-mt00...  "
      ]
     },
     "execution_count": 3,
     "metadata": {},
     "output_type": "execute_result"
    }
   ],
   "source": [
    "import pandas as pd\n",
    "\n",
    "df = pd.read_csv('songs/angry_records.csv',encoding='latin1')\n",
    "df = df.drop(['Unnamed: 0'], axis = 1)\n",
    "df.head()"
   ]
  },
  {
   "cell_type": "code",
   "execution_count": 3,
   "metadata": {},
   "outputs": [],
   "source": [
    "from vaderSentiment.vaderSentiment import SentimentIntensityAnalyzer\n",
    "analyzer = SentimentIntensityAnalyzer()"
   ]
  },
  {
   "cell_type": "code",
   "execution_count": 6,
   "metadata": {},
   "outputs": [
    {
     "name": "stdout",
     "output_type": "stream",
     "text": [
      "Each day the room grows colder. Her tears grow harder to hold. {'neg': 0.147, 'neu': 0.853, 'pos': 0.0, 'compound': -0.2263}\n"
     ]
    }
   ],
   "source": [
    "text = 'Each day the room grows colder. Her tears grow harder to hold.'\n",
    "score = analyzer.polarity_scores(text)\n",
    "print(\"{:-<40} {}\".format(text, str(score)))"
   ]
  },
  {
   "cell_type": "code",
   "execution_count": 7,
   "metadata": {},
   "outputs": [
    {
     "name": "stdout",
     "output_type": "stream",
     "text": [
      "Put away the books, we're out of school. The weather's warm but we'll play it cool {'neg': 0.0, 'neu': 0.634, 'pos': 0.366, 'compound': 0.7579}\n"
     ]
    }
   ],
   "source": [
    "text = \"Put away the books, we're out of school. The weather's warm but we'll play it cool\"\n",
    "score = analyzer.polarity_scores(text)\n",
    "print(\"{:-<40} {}\".format(text, str(score)))"
   ]
  }
 ],
 "metadata": {
  "kernelspec": {
   "display_name": "Python 3",
   "language": "python",
   "name": "python3"
  },
  "language_info": {
   "codemirror_mode": {
    "name": "ipython",
    "version": 3
   },
   "file_extension": ".py",
   "mimetype": "text/x-python",
   "name": "python",
   "nbconvert_exporter": "python",
   "pygments_lexer": "ipython3",
   "version": "3.7.0"
  }
 },
 "nbformat": 4,
 "nbformat_minor": 2
}

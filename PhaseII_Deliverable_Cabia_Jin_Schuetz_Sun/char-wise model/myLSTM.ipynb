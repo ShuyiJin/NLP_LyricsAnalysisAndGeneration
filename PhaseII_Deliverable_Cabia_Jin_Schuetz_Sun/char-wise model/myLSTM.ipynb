{
 "cells": [
  {
   "cell_type": "markdown",
   "metadata": {},
   "source": [
    "The code is run on google colab notebook"
   ]
  },
  {
   "cell_type": "code",
   "execution_count": 1,
   "metadata": {
    "colab": {
     "base_uri": "https://localhost:8080/",
     "height": 121
    },
    "colab_type": "code",
    "executionInfo": {
     "elapsed": 18838,
     "status": "ok",
     "timestamp": 1554846632017,
     "user": {
      "displayName": "DAVID SUN",
      "photoUrl": "",
      "userId": "04535500568104874807"
     },
     "user_tz": 360
    },
    "id": "FQ36bePKvPji",
    "outputId": "37cecf48-1b1e-4e98-fc92-4bed7b17ea68"
   },
   "outputs": [
    {
     "name": "stdout",
     "output_type": "stream",
     "text": [
      "Go to this URL in a browser: https://accounts.google.com/o/oauth2/auth?client_id=947318989803-6bn6qk8qdgf4n4g3pfee6491hc0brc4i.apps.googleusercontent.com&redirect_uri=urn%3Aietf%3Awg%3Aoauth%3A2.0%3Aoob&scope=email%20https%3A%2F%2Fwww.googleapis.com%2Fauth%2Fdocs.test%20https%3A%2F%2Fwww.googleapis.com%2Fauth%2Fdrive%20https%3A%2F%2Fwww.googleapis.com%2Fauth%2Fdrive.photos.readonly%20https%3A%2F%2Fwww.googleapis.com%2Fauth%2Fpeopleapi.readonly&response_type=code\n",
      "\n",
      "Enter your authorization code:\n",
      "··········\n",
      "Mounted at /content/gdrive/\n"
     ]
    }
   ],
   "source": [
    "from google.colab import drive\n",
    "drive.mount('/content/gdrive/')\n"
   ]
  },
  {
   "cell_type": "code",
   "execution_count": 0,
   "metadata": {
    "colab": {
     "base_uri": "https://localhost:8080/",
     "height": 34
    },
    "colab_type": "code",
    "executionInfo": {
     "elapsed": 5403,
     "status": "ok",
     "timestamp": 1554758159793,
     "user": {
      "displayName": "DAVID SUN",
      "photoUrl": "",
      "userId": "04535500568104874807"
     },
     "user_tz": 360
    },
    "id": "lmQZG51wvZ3d",
    "outputId": "90714e14-8022-46bc-e5dc-b3b3685584ba"
   },
   "outputs": [
    {
     "name": "stdout",
     "output_type": "stream",
     "text": [
      "\u001b[0m\u001b[01;34mgdrive\u001b[0m/  \u001b[01;34msample_data\u001b[0m/\n"
     ]
    }
   ],
   "source": [
    "ls"
   ]
  },
  {
   "cell_type": "code",
   "execution_count": 2,
   "metadata": {
    "colab": {
     "base_uri": "https://localhost:8080/",
     "height": 34
    },
    "colab_type": "code",
    "executionInfo": {
     "elapsed": 331,
     "status": "ok",
     "timestamp": 1554846634802,
     "user": {
      "displayName": "DAVID SUN",
      "photoUrl": "",
      "userId": "04535500568104874807"
     },
     "user_tz": 360
    },
    "id": "UxQbtvpXvaXv",
    "outputId": "58c40ce0-8c6a-4601-fa81-0fa8f4bb815d"
   },
   "outputs": [
    {
     "name": "stdout",
     "output_type": "stream",
     "text": [
      "/content/gdrive/My Drive/519project\n"
     ]
    }
   ],
   "source": [
    "cd '/content/gdrive/My Drive/519project'"
   ]
  },
  {
   "cell_type": "code",
   "execution_count": 3,
   "metadata": {
    "colab": {
     "base_uri": "https://localhost:8080/",
     "height": 101
    },
    "colab_type": "code",
    "executionInfo": {
     "elapsed": 1179,
     "status": "ok",
     "timestamp": 1554846637217,
     "user": {
      "displayName": "DAVID SUN",
      "photoUrl": "",
      "userId": "04535500568104874807"
     },
     "user_tz": 360
    },
    "id": "vejqNdeYvgcJ",
    "outputId": "99358fc2-7cce-40b5-e2fc-0989b8363cab"
   },
   "outputs": [
    {
     "name": "stdout",
     "output_type": "stream",
     "text": [
      "0331.png             helper0.py    main2.py     \u001b[0m\u001b[01;34mmodel_overfitting\u001b[0m/\n",
      "corpus_original.txt  helper.py     main.py      \u001b[01;34mmodel_rs\u001b[0m/\n",
      "corpus.txt           helper_rs.py  main_rs.py   myLSTM.ipynb\n",
      "final.h5             main0.py      \u001b[01;34mmodel0\u001b[0m/      \u001b[01;34m__pycache__\u001b[0m/\n",
      "generate_lyrics.py   main1.py      \u001b[01;34mmodel_best\u001b[0m/\n"
     ]
    }
   ],
   "source": [
    "ls"
   ]
  },
  {
   "cell_type": "code",
   "execution_count": 4,
   "metadata": {
    "colab": {
     "base_uri": "https://localhost:8080/",
     "height": 759
    },
    "colab_type": "code",
    "executionInfo": {
     "elapsed": 57557,
     "status": "ok",
     "timestamp": 1554846803363,
     "user": {
      "displayName": "DAVID SUN",
      "photoUrl": "",
      "userId": "04535500568104874807"
     },
     "user_tz": 360
    },
    "id": "oV_qAtCF3S1Q",
    "outputId": "669b2b62-c951-4e04-eedb-5504b4fce924"
   },
   "outputs": [
    {
     "name": "stdout",
     "output_type": "stream",
     "text": [
      "Using TensorFlow backend.\n",
      "WARNING:tensorflow:From /usr/local/lib/python3.6/dist-packages/tensorflow/python/framework/op_def_library.py:263: colocate_with (from tensorflow.python.framework.ops) is deprecated and will be removed in a future version.\n",
      "Instructions for updating:\n",
      "Colocations handled automatically by placer.\n",
      "WARNING:tensorflow:From /usr/local/lib/python3.6/dist-packages/keras/backend/tensorflow_backend.py:3445: calling dropout (from tensorflow.python.ops.nn_ops) with keep_prob is deprecated and will be removed in a future version.\n",
      "Instructions for updating:\n",
      "Please use `rate` instead of `keep_prob`. Rate should be set to `rate = 1 - keep_prob`.\n",
      "2019-04-09 21:52:31.324417: I tensorflow/core/platform/profile_utils/cpu_utils.cc:94] CPU Frequency: 2300000000 Hz\n",
      "2019-04-09 21:52:31.324783: I tensorflow/compiler/xla/service/service.cc:150] XLA service 0x28fe260 executing computations on platform Host. Devices:\n",
      "2019-04-09 21:52:31.324823: I tensorflow/compiler/xla/service/service.cc:158]   StreamExecutor device (0): <undefined>, <undefined>\n",
      "2019-04-09 21:52:31.512548: I tensorflow/stream_executor/cuda/cuda_gpu_executor.cc:998] successful NUMA node read from SysFS had negative value (-1), but there must be at least one NUMA node, so returning NUMA node zero\n",
      "2019-04-09 21:52:31.513889: I tensorflow/compiler/xla/service/service.cc:150] XLA service 0x28fe680 executing computations on platform CUDA. Devices:\n",
      "2019-04-09 21:52:31.513953: I tensorflow/compiler/xla/service/service.cc:158]   StreamExecutor device (0): Tesla K80, Compute Capability 3.7\n",
      "2019-04-09 21:52:31.514390: I tensorflow/core/common_runtime/gpu/gpu_device.cc:1433] Found device 0 with properties: \n",
      "name: Tesla K80 major: 3 minor: 7 memoryClockRate(GHz): 0.8235\n",
      "pciBusID: 0000:00:04.0\n",
      "totalMemory: 11.17GiB freeMemory: 11.10GiB\n",
      "2019-04-09 21:52:31.514427: I tensorflow/core/common_runtime/gpu/gpu_device.cc:1512] Adding visible gpu devices: 0\n",
      "2019-04-09 21:52:33.070919: I tensorflow/core/common_runtime/gpu/gpu_device.cc:984] Device interconnect StreamExecutor with strength 1 edge matrix:\n",
      "2019-04-09 21:52:33.070986: I tensorflow/core/common_runtime/gpu/gpu_device.cc:990]      0 \n",
      "2019-04-09 21:52:33.071006: I tensorflow/core/common_runtime/gpu/gpu_device.cc:1003] 0:   N \n",
      "2019-04-09 21:52:33.071310: W tensorflow/core/common_runtime/gpu/gpu_bfc_allocator.cc:42] Overriding allow_growth setting because the TF_FORCE_GPU_ALLOW_GROWTH environment variable is set. Original config value was 0.\n",
      "2019-04-09 21:52:33.071410: I tensorflow/core/common_runtime/gpu/gpu_device.cc:1115] Created TensorFlow device (/job:localhost/replica:0/task:0/device:GPU:0 with 10754 MB memory) -> physical GPU (device: 0, name: Tesla K80, pci bus id: 0000:00:04.0, compute capability: 3.7)\n",
      "WARNING:tensorflow:From /usr/local/lib/python3.6/dist-packages/tensorflow/python/ops/math_ops.py:3066: to_int32 (from tensorflow.python.ops.math_ops) is deprecated and will be removed in a future version.\n",
      "Instructions for updating:\n",
      "Use tf.cast instead.\n",
      "\n",
      "----- diversity: 0.2\n",
      "----- Generating with seed: \"my boy loves his friends like i love my \"\n",
      "2019-04-09 21:52:34.479307: I tensorflow/stream_executor/dso_loader.cc:152] successfully opened CUDA library libcublas.so.10.0 locally\n",
      "my boy loves his friends like i love my life i be so i be the star the star the star the time i be the star i be so now the star the star the street i be the star i be go to be the true i be the one i be so the star the part to me the star i be go to be the way the star what i would be the star i be the star the star the street to the street and the trun the stor the sun the star the star the star i be the show the star the still i be g\n",
      "\n",
      "----- diversity: 0.5\n",
      "----- Generating with seed: \"my boy loves his friends like i love my \"\n",
      "my boy loves his friends like i love my hard in the world to like to dance that be the thing you will you can not hear you from the thing rellar love the back to scalline mean the streat so can like a man the same my hord the for sure i be and i be care the rened way and i will see and i will do on the friend i be in the only get out to the street to no word it stop the real you be start of my eye you will be when the crear the real go \n",
      "\n",
      "----- diversity: 1.0\n",
      "----- Generating with seed: \"my boy loves his friends like i love my \"\n",
      "my boy loves his friends like i love my cheel your get hut oh out i do not come from give everyget and and when eye have if we want to with you the sand girl could and come on of in please white we be watch becouse love they be all s euth my getnagin in raby of all who rima bad be never geen stray and the run they do you be doang freecry man doortake he get stind thet si love baby simptey one i know she wind to doget in the weach the gr\n",
      "\n",
      "----- diversity: 1.2\n",
      "----- Generating with seed: \"my boy loves his friends like i love my \"\n",
      "my boy loves his friends like i love my bobtakete on one my if yoi stecein me book my and to somethore free now the morning majababe anokele it of the one night good eompeahat hook this kist keep thing and on by ugdly i and one stay but i a beeor my peiletly she what of stecp mend detmdack for i wanna be mime and heart to racler go aw cofpsoy town time up us you gate i feel get the sreek tometty byboy tell your krom do you be readoy sci\n"
     ]
    }
   ],
   "source": [
    "!python generate_lyrics.py --start_40 'my boy loves his friends like i love my '"
   ]
  },
  {
   "cell_type": "code",
   "execution_count": null,
   "metadata": {},
   "outputs": [],
   "source": []
  },
  {
   "cell_type": "markdown",
   "metadata": {
    "colab": {},
    "colab_type": "code",
    "id": "cRACTkyBFR7t"
   },
   "source": [
    "# the rest below is all the trials and training which has been done before generating lyrics"
   ]
  },
  {
   "cell_type": "code",
   "execution_count": 0,
   "metadata": {
    "colab": {
     "base_uri": "https://localhost:8080/",
     "height": 759
    },
    "colab_type": "code",
    "executionInfo": {
     "elapsed": 55035,
     "status": "ok",
     "timestamp": 1554773486250,
     "user": {
      "displayName": "DAVID SUN",
      "photoUrl": "",
      "userId": "04535500568104874807"
     },
     "user_tz": 360
    },
    "id": "cJklSx0-3TJP",
    "outputId": "ac890fe2-98b4-430c-f6bd-5e586de7233b"
   },
   "outputs": [
    {
     "name": "stdout",
     "output_type": "stream",
     "text": [
      "Using TensorFlow backend.\n",
      "WARNING:tensorflow:From /usr/local/lib/python3.6/dist-packages/tensorflow/python/framework/op_def_library.py:263: colocate_with (from tensorflow.python.framework.ops) is deprecated and will be removed in a future version.\n",
      "Instructions for updating:\n",
      "Colocations handled automatically by placer.\n",
      "WARNING:tensorflow:From /usr/local/lib/python3.6/dist-packages/keras/backend/tensorflow_backend.py:3445: calling dropout (from tensorflow.python.ops.nn_ops) with keep_prob is deprecated and will be removed in a future version.\n",
      "Instructions for updating:\n",
      "Please use `rate` instead of `keep_prob`. Rate should be set to `rate = 1 - keep_prob`.\n",
      "2019-04-09 01:30:35.673307: I tensorflow/core/platform/profile_utils/cpu_utils.cc:94] CPU Frequency: 2300000000 Hz\n",
      "2019-04-09 01:30:35.673938: I tensorflow/compiler/xla/service/service.cc:150] XLA service 0x2cd6260 executing computations on platform Host. Devices:\n",
      "2019-04-09 01:30:35.674010: I tensorflow/compiler/xla/service/service.cc:158]   StreamExecutor device (0): <undefined>, <undefined>\n",
      "2019-04-09 01:30:35.768455: I tensorflow/stream_executor/cuda/cuda_gpu_executor.cc:998] successful NUMA node read from SysFS had negative value (-1), but there must be at least one NUMA node, so returning NUMA node zero\n",
      "2019-04-09 01:30:35.769101: I tensorflow/compiler/xla/service/service.cc:150] XLA service 0x2cd6680 executing computations on platform CUDA. Devices:\n",
      "2019-04-09 01:30:35.769170: I tensorflow/compiler/xla/service/service.cc:158]   StreamExecutor device (0): Tesla K80, Compute Capability 3.7\n",
      "2019-04-09 01:30:35.769585: I tensorflow/core/common_runtime/gpu/gpu_device.cc:1433] Found device 0 with properties: \n",
      "name: Tesla K80 major: 3 minor: 7 memoryClockRate(GHz): 0.8235\n",
      "pciBusID: 0000:00:04.0\n",
      "totalMemory: 11.17GiB freeMemory: 11.10GiB\n",
      "2019-04-09 01:30:35.769617: I tensorflow/core/common_runtime/gpu/gpu_device.cc:1512] Adding visible gpu devices: 0\n",
      "2019-04-09 01:30:36.148287: I tensorflow/core/common_runtime/gpu/gpu_device.cc:984] Device interconnect StreamExecutor with strength 1 edge matrix:\n",
      "2019-04-09 01:30:36.148349: I tensorflow/core/common_runtime/gpu/gpu_device.cc:990]      0 \n",
      "2019-04-09 01:30:36.148369: I tensorflow/core/common_runtime/gpu/gpu_device.cc:1003] 0:   N \n",
      "2019-04-09 01:30:36.148635: W tensorflow/core/common_runtime/gpu/gpu_bfc_allocator.cc:42] Overriding allow_growth setting because the TF_FORCE_GPU_ALLOW_GROWTH environment variable is set. Original config value was 0.\n",
      "2019-04-09 01:30:36.148692: I tensorflow/core/common_runtime/gpu/gpu_device.cc:1115] Created TensorFlow device (/job:localhost/replica:0/task:0/device:GPU:0 with 10754 MB memory) -> physical GPU (device: 0, name: Tesla K80, pci bus id: 0000:00:04.0, compute capability: 3.7)\n",
      "WARNING:tensorflow:From /usr/local/lib/python3.6/dist-packages/tensorflow/python/ops/math_ops.py:3066: to_int32 (from tensorflow.python.ops.math_ops) is deprecated and will be removed in a future version.\n",
      "Instructions for updating:\n",
      "Use tf.cast instead.\n",
      "\n",
      "----- diversity: 0.2\n",
      "----- Generating with seed: \"i loved how you walk with your hands in \"\n",
      "2019-04-09 01:30:37.461745: I tensorflow/stream_executor/dso_loader.cc:152] successfully opened CUDA library libcublas.so.10.0 locally\n",
      "i loved how you walk with your hands in the star the star i be a some be a star the star a star i be the star and a some the star when the star the star the stor i be the star i have be a back the thing i be a plast the star and i want to star the sear the star the thing i be go to be every she be the line when i be so the star the star a little the star i be go to be a baby be a some the star the star the star the star i be the tround \n",
      "\n",
      "----- diversity: 0.5\n",
      "----- Generating with seed: \"i loved how you walk with your hands in \"\n",
      "i loved how you walk with your hands in and we be go to see follong the dance let a start some baby she be a in a be but a somet on the way could be so me the shin you be come it i be here you you stay let le pall and i be to the know the way they be be great of i have be a plast and love see like the one what come on i be go to the way to the to can when i know this be and you be go to be good to like we can not one a demin for the lit\n",
      "\n",
      "----- diversity: 1.0\n",
      "----- Generating with seed: \"i loved how you walk with your hands in \"\n",
      "i loved how you walk with your hands in i sem yost and you a way pontinoat oa eye beed with they be thoing in a histen fiver to when ard because i knougkeer good hof somed you behore maag befine peant dream mang ever rat i darl a down of you be break watch you cay n trelad no need hir every cope for you the how to the pintime in the so or look me buofulp we get bad hour enm cay mime to gamy i be mal thing to so every aday then queel my \n",
      "\n",
      "----- diversity: 1.2\n",
      "----- Generating with seed: \"i loved how you walk with your hands in \"\n",
      "i loved how you walk with your hands in thow go you make a you dadely harl just o by afoure you there you buper in blawliast mor me everybody ag then i to in down and miss i love the feopad it reuke oh yeah you crecking kit foneash iver gonter me go bride poer it towh them oh word ussii buack jer each out looe thir a n rowe same the cown our fuce yepplield ater happine anything will ray giech now newamt and bidy buy yfur premenream the \n"
     ]
    }
   ],
   "source": [
    "!python generate_lyrics.py --start_40 'I loved how you walk with your hands in ' --load_model 'model_best/model-05-1.5020.h5'"
   ]
  },
  {
   "cell_type": "code",
   "execution_count": 0,
   "metadata": {
    "colab": {},
    "colab_type": "code",
    "id": "f1_w6zNw3TLm"
   },
   "outputs": [],
   "source": []
  },
  {
   "cell_type": "code",
   "execution_count": 0,
   "metadata": {
    "colab": {},
    "colab_type": "code",
    "id": "wYfD7P2u3TOR"
   },
   "outputs": [],
   "source": []
  },
  {
   "cell_type": "code",
   "execution_count": 0,
   "metadata": {
    "colab": {},
    "colab_type": "code",
    "id": "aQR6PYMO3TQ5"
   },
   "outputs": [],
   "source": []
  },
  {
   "cell_type": "code",
   "execution_count": 0,
   "metadata": {
    "colab": {},
    "colab_type": "code",
    "id": "osaLYNYg3TTD"
   },
   "outputs": [],
   "source": []
  },
  {
   "cell_type": "code",
   "execution_count": 0,
   "metadata": {
    "colab": {},
    "colab_type": "code",
    "id": "FsqE7EZQ3TVf"
   },
   "outputs": [],
   "source": []
  },
  {
   "cell_type": "code",
   "execution_count": 0,
   "metadata": {
    "colab": {},
    "colab_type": "code",
    "id": "PbemFP2u3TYP"
   },
   "outputs": [],
   "source": []
  },
  {
   "cell_type": "code",
   "execution_count": 0,
   "metadata": {
    "colab": {},
    "colab_type": "code",
    "id": "orM6-Cnl3TbH"
   },
   "outputs": [],
   "source": []
  },
  {
   "cell_type": "code",
   "execution_count": 0,
   "metadata": {
    "colab": {},
    "colab_type": "code",
    "id": "2E__nBqj3Tdq"
   },
   "outputs": [],
   "source": []
  },
  {
   "cell_type": "code",
   "execution_count": 0,
   "metadata": {
    "colab": {
     "base_uri": "https://localhost:8080/",
     "height": 927
    },
    "colab_type": "code",
    "executionInfo": {
     "elapsed": 85751,
     "status": "ok",
     "timestamp": 1554591277115,
     "user": {
      "displayName": "DAVID SUN",
      "photoUrl": "",
      "userId": "04535500568104874807"
     },
     "user_tz": 360
    },
    "id": "TOOzcsF7wNNs",
    "outputId": "90b88b9d-1c09-4172-9e77-4202d37d0f8f"
   },
   "outputs": [
    {
     "name": "stdout",
     "output_type": "stream",
     "text": [
      "Using TensorFlow backend.\n",
      "tcmalloc: large alloc 4111523840 bytes == 0x9d44000 @  0x7f7f004f3001 0x7f7efe227b85 0x7f7efe28ab43 0x7f7efe28ca86 0x7f7efe324868 0x5030d5 0x507641 0x502209 0x502f3d 0x506859 0x504c28 0x506393 0x634d52 0x634e0a 0x6385c8 0x63915a 0x4a6f10 0x7f7f000eeb97 0x5afa0a\n",
      "WARNING:tensorflow:From /usr/local/lib/python3.6/dist-packages/tensorflow/python/framework/op_def_library.py:263: colocate_with (from tensorflow.python.framework.ops) is deprecated and will be removed in a future version.\n",
      "Instructions for updating:\n",
      "Colocations handled automatically by placer.\n",
      "/usr/local/lib/python3.6/dist-packages/keras/layers/recurrent.py:2298: UserWarning: The `input_dim` and `input_length` arguments in recurrent layers are deprecated. Use `input_shape` instead.\n",
      "  return cls(**config)\n",
      "/usr/local/lib/python3.6/dist-packages/keras/layers/recurrent.py:2298: UserWarning: Update your `LSTM` call to the Keras 2 API: `LSTM(trainable=True, unroll=False, input_dtype=\"float32\", batch_input_shape=[None, 40,..., activation=\"tanh\", stateful=False, name=\"lstm_1\", go_backwards=False, return_sequences=False, unit_forget_bias=True, input_shape=(None, 40), units=128, kernel_initializer=\"glorot_uniform\", recurrent_initializer=\"orthogonal\", recurrent_activation=\"hard_sigmoid\", kernel_regularizer=None, bias_regularizer=None, recurrent_regularizer=None, dropout=0.0, recurrent_dropout=0.0, implementation=0)`\n",
      "  return cls(**config)\n",
      "/usr/local/lib/python3.6/dist-packages/keras/layers/recurrent.py:2150: UserWarning: `implementation=0` has been deprecated, and now defaults to `implementation=1`.Please update your layer call.\n",
      "  warnings.warn('`implementation=0` has been deprecated, '\n",
      "/usr/local/lib/python3.6/dist-packages/keras/engine/base_layer.py:1109: UserWarning: Update your `Dense` call to the Keras 2 API: `Dense(name=\"dense_1\", activity_regularizer=None, trainable=True, input_dim=None, activation=\"linear\", units=40, kernel_initializer=\"glorot_uniform\", kernel_regularizer=None, bias_regularizer=None, kernel_constraint=None, bias_constraint=None, use_bias=True)`\n",
      "  return cls(**config)\n",
      "2019-04-06 22:53:47.726673: I tensorflow/core/platform/profile_utils/cpu_utils.cc:94] CPU Frequency: 2200000000 Hz\n",
      "2019-04-06 22:53:47.727155: I tensorflow/compiler/xla/service/service.cc:150] XLA service 0x327c100 executing computations on platform Host. Devices:\n",
      "2019-04-06 22:53:47.727202: I tensorflow/compiler/xla/service/service.cc:158]   StreamExecutor device (0): <undefined>, <undefined>\n",
      "2019-04-06 22:53:47.900404: I tensorflow/stream_executor/cuda/cuda_gpu_executor.cc:998] successful NUMA node read from SysFS had negative value (-1), but there must be at least one NUMA node, so returning NUMA node zero\n",
      "2019-04-06 22:53:47.901146: I tensorflow/compiler/xla/service/service.cc:150] XLA service 0x327c520 executing computations on platform CUDA. Devices:\n",
      "2019-04-06 22:53:47.901194: I tensorflow/compiler/xla/service/service.cc:158]   StreamExecutor device (0): Tesla K80, Compute Capability 3.7\n",
      "2019-04-06 22:53:47.902066: I tensorflow/core/common_runtime/gpu/gpu_device.cc:1433] Found device 0 with properties: \n",
      "name: Tesla K80 major: 3 minor: 7 memoryClockRate(GHz): 0.8235\n",
      "pciBusID: 0000:00:04.0\n",
      "totalMemory: 11.17GiB freeMemory: 11.10GiB\n",
      "2019-04-06 22:53:47.902134: I tensorflow/core/common_runtime/gpu/gpu_device.cc:1512] Adding visible gpu devices: 0\n",
      "2019-04-06 22:53:49.498037: I tensorflow/core/common_runtime/gpu/gpu_device.cc:984] Device interconnect StreamExecutor with strength 1 edge matrix:\n",
      "2019-04-06 22:53:49.498097: I tensorflow/core/common_runtime/gpu/gpu_device.cc:990]      0 \n",
      "2019-04-06 22:53:49.498117: I tensorflow/core/common_runtime/gpu/gpu_device.cc:1003] 0:   N \n",
      "2019-04-06 22:53:49.498387: W tensorflow/core/common_runtime/gpu/gpu_bfc_allocator.cc:42] Overriding allow_growth setting because the TF_FORCE_GPU_ALLOW_GROWTH environment variable is set. Original config value was 0.\n",
      "2019-04-06 22:53:49.498512: I tensorflow/core/common_runtime/gpu/gpu_device.cc:1115] Created TensorFlow device (/job:localhost/replica:0/task:0/device:GPU:0 with 10754 MB memory) -> physical GPU (device: 0, name: Tesla K80, pci bus id: 0000:00:04.0, compute capability: 3.7)\n",
      "WARNING:tensorflow:From /usr/local/lib/python3.6/dist-packages/tensorflow/python/ops/math_ops.py:3066: to_int32 (from tensorflow.python.ops.math_ops) is deprecated and will be removed in a future version.\n",
      "Instructions for updating:\n",
      "Use tf.cast instead.\n",
      "/usr/local/lib/python3.6/dist-packages/keras/engine/saving.py:327: UserWarning: Error in loading the saved optimizer state. As a result, your model is starting with a freshly initialized optimizer.\n",
      "  warnings.warn('Error in loading the saved optimizer '\n",
      "\n",
      "----- diversity: 0.2\n",
      "----- Generating with seed: \"the grass is green and my car is red lik\"\n",
      "2019-04-06 22:53:50.624141: I tensorflow/stream_executor/dso_loader.cc:152] successfully opened CUDA library libcublas.so.10.0 locally\n",
      "/content/gdrive/My Drive/519project/helper0.py:41: RuntimeWarning: divide by zero encountered in log\n",
      "  preds = np.log(preds) / temperature\n",
      "the grass is green and my car is red like a little love i wanna be the one that i want to be the man that i wanna be a love i wanna be a long time and i wanna do it to me i wanna stand a little thing i wanna be a long to the more that i want to go i got the way i was waiting the way you love you the way you feel the same i wanna know it all the way you want to be a love will you want me to stay the way you love me what you need a little\n",
      "\n",
      "----- diversity: 0.5\n",
      "----- Generating with seed: \"the grass is green and my car is red lik\"\n",
      "the grass is green and my car is red like the night good baby i know i want you now i wanna fight a song you know i got the world but we could be feeling in the walking from where you say it all the way i want to show you love you i dont know who i want to stop all the line is gonna stay see me the baby i love you remember you are you gonna love you baby dont be the one i want to love you i love to live a love i can fall in love for the\n",
      "\n",
      "----- diversity: 1.0\n",
      "----- Generating with seed: \"the grass is green and my car is red lik\"\n",
      "the grass is green and my car is red like a hotels would i die were sad all ellive can recked well i wanna give you to day because i loves me whats all it feels to give it aluech and i think you love them liveshot face reated on back as fine all my heart close me just where tonight telling me that i i was have to do it cant help this houll be a moment fadedyeall you know we saw you you knuckin you to you when i fucked the savil you got \n",
      "\n",
      "----- diversity: 1.2\n",
      "----- Generating with seed: \"the grass is green and my car is red lik\"\n",
      "the grass is green and my car is red like want baby though if ill bath me high hes ay close meall tonms boutdom train bout to livedebut lose if you cant give meoh to you love meanet the pledged a race of tenderneed it in the tightil okay wheell give it a time a lasts ab wasnt love about i think we were there whoa oh oh dayat three your niggay world around my pipentiention is your falling for the out tvi goods dont take it anymore we cut\n"
     ]
    }
   ],
   "source": [
    "!python main.py"
   ]
  },
  {
   "cell_type": "code",
   "execution_count": 0,
   "metadata": {
    "colab": {
     "base_uri": "https://localhost:8080/",
     "height": 3477
    },
    "colab_type": "code",
    "executionInfo": {
     "elapsed": 4697608,
     "status": "ok",
     "timestamp": 1554582937887,
     "user": {
      "displayName": "DAVID SUN",
      "photoUrl": "",
      "userId": "04535500568104874807"
     },
     "user_tz": 360
    },
    "id": "zm47fOk8wPcT",
    "outputId": "2e18b9fb-f75d-47f9-e1c9-b3edec60ca83"
   },
   "outputs": [
    {
     "name": "stdout",
     "output_type": "stream",
     "text": [
      "Using TensorFlow backend.\n",
      "WARNING:tensorflow:From /usr/local/lib/python3.6/dist-packages/tensorflow/python/framework/op_def_library.py:263: colocate_with (from tensorflow.python.framework.ops) is deprecated and will be removed in a future version.\n",
      "Instructions for updating:\n",
      "Colocations handled automatically by placer.\n",
      "_________________________________________________________________\n",
      "Layer (type)                 Output Shape              Param #   \n",
      "=================================================================\n",
      "lstm_1 (LSTM)                (None, 128)               81408     \n",
      "_________________________________________________________________\n",
      "dense_1 (Dense)              (None, 30)                3870      \n",
      "_________________________________________________________________\n",
      "activation_1 (Activation)    (None, 30)                0         \n",
      "=================================================================\n",
      "Total params: 85,278\n",
      "Trainable params: 85,278\n",
      "Non-trainable params: 0\n",
      "_________________________________________________________________\n",
      "WARNING:tensorflow:From /usr/local/lib/python3.6/dist-packages/tensorflow/python/ops/math_ops.py:3066: to_int32 (from tensorflow.python.ops.math_ops) is deprecated and will be removed in a future version.\n",
      "Instructions for updating:\n",
      "Use tf.cast instead.\n",
      "Train on 166543 samples, validate on 55515 samples\n",
      "Epoch 1/100\n",
      "2019-04-06 17:06:03.280832: I tensorflow/core/platform/profile_utils/cpu_utils.cc:94] CPU Frequency: 2300000000 Hz\n",
      "2019-04-06 17:06:03.281183: I tensorflow/compiler/xla/service/service.cc:150] XLA service 0x29331e0 executing computations on platform Host. Devices:\n",
      "2019-04-06 17:06:03.281241: I tensorflow/compiler/xla/service/service.cc:158]   StreamExecutor device (0): <undefined>, <undefined>\n",
      "2019-04-06 17:06:03.445054: I tensorflow/stream_executor/cuda/cuda_gpu_executor.cc:998] successful NUMA node read from SysFS had negative value (-1), but there must be at least one NUMA node, so returning NUMA node zero\n",
      "2019-04-06 17:06:03.445602: I tensorflow/compiler/xla/service/service.cc:150] XLA service 0x2933b80 executing computations on platform CUDA. Devices:\n",
      "2019-04-06 17:06:03.445652: I tensorflow/compiler/xla/service/service.cc:158]   StreamExecutor device (0): Tesla K80, Compute Capability 3.7\n",
      "2019-04-06 17:06:03.446011: I tensorflow/core/common_runtime/gpu/gpu_device.cc:1433] Found device 0 with properties: \n",
      "name: Tesla K80 major: 3 minor: 7 memoryClockRate(GHz): 0.8235\n",
      "pciBusID: 0000:00:04.0\n",
      "totalMemory: 11.17GiB freeMemory: 11.10GiB\n",
      "2019-04-06 17:06:03.446060: I tensorflow/core/common_runtime/gpu/gpu_device.cc:1512] Adding visible gpu devices: 0\n",
      "2019-04-06 17:06:04.880272: I tensorflow/core/common_runtime/gpu/gpu_device.cc:984] Device interconnect StreamExecutor with strength 1 edge matrix:\n",
      "2019-04-06 17:06:04.880352: I tensorflow/core/common_runtime/gpu/gpu_device.cc:990]      0 \n",
      "2019-04-06 17:06:04.880399: I tensorflow/core/common_runtime/gpu/gpu_device.cc:1003] 0:   N \n",
      "2019-04-06 17:06:04.880724: W tensorflow/core/common_runtime/gpu/gpu_bfc_allocator.cc:42] Overriding allow_growth setting because the TF_FORCE_GPU_ALLOW_GROWTH environment variable is set. Original config value was 0.\n",
      "2019-04-06 17:06:04.880817: I tensorflow/core/common_runtime/gpu/gpu_device.cc:1115] Created TensorFlow device (/job:localhost/replica:0/task:0/device:GPU:0 with 10754 MB memory) -> physical GPU (device: 0, name: Tesla K80, pci bus id: 0000:00:04.0, compute capability: 3.7)\n",
      "2019-04-06 17:06:05.445999: I tensorflow/stream_executor/dso_loader.cc:152] successfully opened CUDA library libcublas.so.10.0 locally\n",
      "166543/166543 [==============================] - 129s 775us/step - loss: 1.7196 - acc: 0.4860 - val_loss: 1.5728 - val_acc: 0.5214\n",
      "Epoch 2/100\n",
      "166543/166543 [==============================] - 126s 758us/step - loss: 1.4118 - acc: 0.5705 - val_loss: 1.5107 - val_acc: 0.5437\n",
      "Epoch 3/100\n",
      "166543/166543 [==============================] - 126s 757us/step - loss: 1.3280 - acc: 0.5939 - val_loss: 1.4730 - val_acc: 0.5533\n",
      "Epoch 4/100\n",
      "166543/166543 [==============================] - 126s 757us/step - loss: 1.2807 - acc: 0.6064 - val_loss: 1.4692 - val_acc: 0.5604\n",
      "Epoch 5/100\n",
      "166543/166543 [==============================] - 125s 753us/step - loss: 1.2498 - acc: 0.6166 - val_loss: 1.4730 - val_acc: 0.5656\n",
      "Epoch 6/100\n",
      "166543/166543 [==============================] - 125s 751us/step - loss: 1.2269 - acc: 0.6242 - val_loss: 1.4663 - val_acc: 0.5648\n",
      "Epoch 7/100\n",
      "166543/166543 [==============================] - 126s 756us/step - loss: 1.2109 - acc: 0.6271 - val_loss: 1.4708 - val_acc: 0.5657\n",
      "Epoch 8/100\n",
      "166543/166543 [==============================] - 126s 756us/step - loss: 1.1955 - acc: 0.6318 - val_loss: 1.4732 - val_acc: 0.5648\n",
      "Epoch 9/100\n",
      "166543/166543 [==============================] - 126s 756us/step - loss: 1.1840 - acc: 0.6340 - val_loss: 1.4624 - val_acc: 0.5665\n",
      "Epoch 10/100\n",
      "166543/166543 [==============================] - 127s 760us/step - loss: 1.1687 - acc: 0.6400 - val_loss: 1.4644 - val_acc: 0.5688\n",
      "Epoch 11/100\n",
      "166543/166543 [==============================] - 125s 753us/step - loss: 1.1568 - acc: 0.6438 - val_loss: 1.4655 - val_acc: 0.5692\n",
      "Epoch 12/100\n",
      "166543/166543 [==============================] - 126s 754us/step - loss: 1.1460 - acc: 0.6465 - val_loss: 1.4743 - val_acc: 0.5742\n",
      "Epoch 13/100\n",
      "166543/166543 [==============================] - 126s 756us/step - loss: 1.1307 - acc: 0.6518 - val_loss: 1.4800 - val_acc: 0.5698\n",
      "Epoch 14/100\n",
      "166543/166543 [==============================] - 126s 754us/step - loss: 1.1358 - acc: 0.6494 - val_loss: 1.4884 - val_acc: 0.5684\n",
      "Epoch 15/100\n",
      "166543/166543 [==============================] - 126s 755us/step - loss: 1.1274 - acc: 0.6513 - val_loss: 1.4998 - val_acc: 0.5734\n",
      "Epoch 16/100\n",
      "166543/166543 [==============================] - 126s 755us/step - loss: 1.1173 - acc: 0.6548 - val_loss: 1.4785 - val_acc: 0.5690\n",
      "Epoch 17/100\n",
      "166543/166543 [==============================] - 126s 754us/step - loss: 1.1117 - acc: 0.6565 - val_loss: 1.5125 - val_acc: 0.5633\n",
      "Epoch 18/100\n",
      "166543/166543 [==============================] - 126s 756us/step - loss: 1.1017 - acc: 0.6595 - val_loss: 1.5105 - val_acc: 0.5709\n",
      "Epoch 19/100\n",
      "166543/166543 [==============================] - 126s 756us/step - loss: 1.1039 - acc: 0.6587 - val_loss: 1.5238 - val_acc: 0.5680\n",
      "Epoch 20/100\n",
      "166543/166543 [==============================] - 126s 756us/step - loss: 1.1012 - acc: 0.6591 - val_loss: 1.4892 - val_acc: 0.5679\n",
      "Epoch 21/100\n",
      "166543/166543 [==============================] - 126s 755us/step - loss: 1.0945 - acc: 0.6609 - val_loss: 1.5036 - val_acc: 0.5689\n",
      "Epoch 22/100\n",
      "166543/166543 [==============================] - 126s 755us/step - loss: 1.0924 - acc: 0.6613 - val_loss: 1.5072 - val_acc: 0.5730\n",
      "Epoch 23/100\n",
      "166543/166543 [==============================] - 126s 757us/step - loss: 1.0809 - acc: 0.6657 - val_loss: 1.5175 - val_acc: 0.5728\n",
      "Epoch 24/100\n",
      "166543/166543 [==============================] - 126s 754us/step - loss: 1.0808 - acc: 0.6653 - val_loss: 1.5297 - val_acc: 0.5707\n",
      "Epoch 25/100\n",
      "166543/166543 [==============================] - 126s 755us/step - loss: 1.0721 - acc: 0.6682 - val_loss: 1.5178 - val_acc: 0.5691\n",
      "Epoch 26/100\n",
      "166543/166543 [==============================] - 126s 758us/step - loss: 1.0668 - acc: 0.6694 - val_loss: 1.5506 - val_acc: 0.5672\n",
      "Epoch 27/100\n",
      "166543/166543 [==============================] - 126s 756us/step - loss: 1.0961 - acc: 0.6627 - val_loss: 1.6859 - val_acc: 0.5435\n",
      "Epoch 28/100\n",
      "166543/166543 [==============================] - 126s 758us/step - loss: 1.3866 - acc: 0.5942 - val_loss: 1.9461 - val_acc: 0.4909\n",
      "Epoch 29/100\n",
      "166543/166543 [==============================] - 126s 754us/step - loss: 1.7830 - acc: 0.5029 - val_loss: 1.9397 - val_acc: 0.4630\n",
      "Epoch 30/100\n",
      "166543/166543 [==============================] - 125s 751us/step - loss: 1.9059 - acc: 0.4770 - val_loss: 2.2680 - val_acc: 0.4175\n",
      "Epoch 31/100\n",
      "166543/166543 [==============================] - 125s 752us/step - loss: 2.5311 - acc: 0.3874 - val_loss: 3.3252 - val_acc: 0.3103\n",
      "Epoch 32/100\n",
      "166543/166543 [==============================] - 125s 753us/step - loss: 3.2367 - acc: 0.3048 - val_loss: 3.0587 - val_acc: 0.3105\n",
      "Epoch 33/100\n",
      "166543/166543 [==============================] - 126s 754us/step - loss: 3.1397 - acc: 0.2994 - val_loss: 3.4096 - val_acc: 0.2699\n",
      "Epoch 34/100\n",
      "166543/166543 [==============================] - 129s 772us/step - loss: 3.6077 - acc: 0.2672 - val_loss: 3.4289 - val_acc: 0.2625\n",
      "Epoch 35/100\n",
      "166543/166543 [==============================] - 126s 759us/step - loss: 3.3811 - acc: 0.2639 - val_loss: 3.4251 - val_acc: 0.2574\n",
      "Epoch 36/100\n",
      "166543/166543 [==============================] - 126s 755us/step - loss: 3.4009 - acc: 0.2601 - val_loss: 3.2601 - val_acc: 0.2582\n",
      "Epoch 37/100\n",
      "166543/166543 [==============================] - 126s 758us/step - loss: 3.1326 - acc: 0.2565 - val_loss: 3.1436 - val_acc: 0.2453\n",
      "Epoch 38/100\n",
      "166543/166543 [==============================] - 126s 759us/step - loss: 3.0846 - acc: 0.2495 - val_loss: 3.1581 - val_acc: 0.2390\n",
      "Epoch 39/100\n",
      "166543/166543 [==============================] - 126s 756us/step - loss: 3.1727 - acc: 0.2329 - val_loss: 3.0657 - val_acc: 0.2326\n",
      "Epoch 40/100\n",
      "166543/166543 [==============================] - 126s 759us/step - loss: 2.9800 - acc: 0.2375 - val_loss: 3.0382 - val_acc: 0.2307\n",
      "Epoch 41/100\n",
      "166543/166543 [==============================] - 126s 757us/step - loss: 3.0271 - acc: 0.2324 - val_loss: 3.0609 - val_acc: 0.2259\n",
      "Epoch 42/100\n",
      "166543/166543 [==============================] - 126s 757us/step - loss: 2.9185 - acc: 0.2329 - val_loss: 2.8407 - val_acc: 0.2316\n",
      "Epoch 43/100\n",
      "166543/166543 [==============================] - 125s 750us/step - loss: 2.7526 - acc: 0.2408 - val_loss: 2.7460 - val_acc: 0.2392\n",
      "Epoch 44/100\n",
      "166543/166543 [==============================] - 126s 755us/step - loss: 2.7591 - acc: 0.2385 - val_loss: 2.8550 - val_acc: 0.2286\n",
      "Epoch 45/100\n",
      "166543/166543 [==============================] - 126s 756us/step - loss: 2.9347 - acc: 0.2235 - val_loss: 2.8422 - val_acc: 0.2229\n",
      "Epoch 46/100\n",
      "166543/166543 [==============================] - 125s 753us/step - loss: 2.7226 - acc: 0.2339 - val_loss: 2.7020 - val_acc: 0.2352\n",
      "Epoch 47/100\n",
      "166543/166543 [==============================] - 125s 753us/step - loss: 2.6717 - acc: 0.2428 - val_loss: 2.7005 - val_acc: 0.2394\n",
      "Epoch 48/100\n",
      "166543/166543 [==============================] - 125s 749us/step - loss: 2.7214 - acc: 0.2335 - val_loss: 2.7503 - val_acc: 0.2283\n",
      "Epoch 49/100\n",
      "166543/166543 [==============================] - 125s 753us/step - loss: 2.7023 - acc: 0.2362 - val_loss: 2.7119 - val_acc: 0.2332\n",
      "Epoch 50/100\n",
      "166543/166543 [==============================] - 126s 755us/step - loss: 2.6915 - acc: 0.2384 - val_loss: 2.7225 - val_acc: 0.2253\n",
      "Epoch 51/100\n",
      "166543/166543 [==============================] - 126s 754us/step - loss: 2.7036 - acc: 0.2358 - val_loss: 2.7301 - val_acc: 0.2327\n",
      "Epoch 52/100\n",
      "166543/166543 [==============================] - 126s 754us/step - loss: 2.6939 - acc: 0.2371 - val_loss: 2.7128 - val_acc: 0.2359\n",
      "Epoch 53/100\n",
      "166543/166543 [==============================] - 125s 750us/step - loss: 2.7042 - acc: 0.2353 - val_loss: 2.7243 - val_acc: 0.2340\n",
      "Epoch 54/100\n",
      "166543/166543 [==============================] - 125s 752us/step - loss: 2.7272 - acc: 0.2306 - val_loss: 2.7441 - val_acc: 0.2242\n",
      "Epoch 55/100\n",
      "166543/166543 [==============================] - 126s 755us/step - loss: 2.7310 - acc: 0.2284 - val_loss: 2.7481 - val_acc: 0.2282\n",
      "Epoch 56/100\n",
      "166543/166543 [==============================] - 125s 752us/step - loss: 2.7425 - acc: 0.2283 - val_loss: 2.7600 - val_acc: 0.2206\n",
      "Epoch 57/100\n",
      "166543/166543 [==============================] - 126s 754us/step - loss: 2.7460 - acc: 0.2261 - val_loss: 2.7586 - val_acc: 0.2228\n",
      "Epoch 58/100\n",
      "166543/166543 [==============================] - 125s 751us/step - loss: 2.7400 - acc: 0.2268 - val_loss: 2.7641 - val_acc: 0.2214\n",
      "Epoch 59/100\n",
      "166543/166543 [==============================] - 125s 753us/step - loss: 2.7344 - acc: 0.2269 - val_loss: 2.7720 - val_acc: 0.2217\n",
      "Epoch 60/100\n",
      "166543/166543 [==============================] - 125s 752us/step - loss: 2.7318 - acc: 0.2290 - val_loss: 2.7514 - val_acc: 0.2242\n",
      "Epoch 61/100\n",
      "166543/166543 [==============================] - 126s 755us/step - loss: 2.7335 - acc: 0.2278 - val_loss: 2.7300 - val_acc: 0.2281\n",
      "Epoch 62/100\n",
      "166543/166543 [==============================] - 125s 753us/step - loss: 2.7212 - acc: 0.2310 - val_loss: 2.7369 - val_acc: 0.2261\n",
      "Epoch 63/100\n",
      "166543/166543 [==============================] - 131s 788us/step - loss: 2.7139 - acc: 0.2312 - val_loss: 2.7273 - val_acc: 0.2307\n",
      "Epoch 64/100\n",
      "166543/166543 [==============================] - 126s 754us/step - loss: 2.7044 - acc: 0.2351 - val_loss: 2.7184 - val_acc: 0.2333\n",
      "Epoch 65/100\n",
      "166543/166543 [==============================] - 126s 755us/step - loss: 2.7007 - acc: 0.2363 - val_loss: 2.7342 - val_acc: 0.2318\n",
      "Epoch 66/100\n",
      "166543/166543 [==============================] - 126s 755us/step - loss: 2.6923 - acc: 0.2370 - val_loss: 2.7102 - val_acc: 0.2303\n",
      "Epoch 67/100\n",
      "166543/166543 [==============================] - 126s 755us/step - loss: 2.6728 - acc: 0.2419 - val_loss: 2.7284 - val_acc: 0.2394\n",
      "Epoch 68/100\n",
      "166543/166543 [==============================] - 125s 753us/step - loss: 2.6821 - acc: 0.2404 - val_loss: 2.7475 - val_acc: 0.2320\n",
      "Epoch 69/100\n",
      "166543/166543 [==============================] - 125s 753us/step - loss: 2.6891 - acc: 0.2386 - val_loss: 2.7612 - val_acc: 0.2133\n",
      "Epoch 70/100\n",
      "166543/166543 [==============================] - 126s 756us/step - loss: 2.6970 - acc: 0.2356 - val_loss: 2.7547 - val_acc: 0.2321\n",
      "Epoch 71/100\n",
      "166543/166543 [==============================] - 126s 755us/step - loss: 2.7029 - acc: 0.2353 - val_loss: 2.7393 - val_acc: 0.2339\n",
      "Epoch 72/100\n",
      "166543/166543 [==============================] - 126s 754us/step - loss: 2.7061 - acc: 0.2358 - val_loss: 2.7340 - val_acc: 0.2304\n",
      "Epoch 73/100\n",
      "166543/166543 [==============================] - 125s 750us/step - loss: 2.7057 - acc: 0.2356 - val_loss: 2.7350 - val_acc: 0.2300\n",
      "Epoch 74/100\n",
      "166543/166543 [==============================] - 125s 751us/step - loss: 2.7157 - acc: 0.2323 - val_loss: 2.7491 - val_acc: 0.2124\n",
      "Epoch 75/100\n",
      "166543/166543 [==============================] - 125s 752us/step - loss: 2.7180 - acc: 0.2326 - val_loss: 2.7578 - val_acc: 0.2303\n",
      "Epoch 76/100\n",
      "166543/166543 [==============================] - 125s 753us/step - loss: 2.7289 - acc: 0.2312 - val_loss: 2.7577 - val_acc: 0.2215\n",
      "Epoch 77/100\n",
      "166543/166543 [==============================] - 126s 754us/step - loss: 2.7392 - acc: 0.2280 - val_loss: 2.7580 - val_acc: 0.2263\n",
      "Epoch 78/100\n",
      "166543/166543 [==============================] - 126s 754us/step - loss: 2.7253 - acc: 0.2290 - val_loss: 2.7709 - val_acc: 0.2263\n",
      "Epoch 79/100\n",
      "166543/166543 [==============================] - 126s 756us/step - loss: 2.7098 - acc: 0.2338 - val_loss: 2.7534 - val_acc: 0.2298\n",
      "Epoch 80/100\n",
      "166543/166543 [==============================] - 126s 755us/step - loss: 2.7284 - acc: 0.2285 - val_loss: 2.7926 - val_acc: 0.1958\n",
      "Epoch 81/100\n",
      "166543/166543 [==============================] - 125s 753us/step - loss: 2.7319 - acc: 0.2280 - val_loss: 2.7670 - val_acc: 0.2291\n",
      "Epoch 82/100\n",
      "166543/166543 [==============================] - 126s 755us/step - loss: 2.7180 - acc: 0.2320 - val_loss: 2.7499 - val_acc: 0.2282\n",
      "Epoch 83/100\n",
      " 42624/166543 [======>.......................] - ETA: 1:21 - loss: 2.7202 - acc: 0.2309Buffered data was truncated after reaching the output size limit."
     ]
    }
   ],
   "source": [
    "!python main0.py"
   ]
  },
  {
   "cell_type": "code",
   "execution_count": 0,
   "metadata": {
    "colab": {
     "base_uri": "https://localhost:8080/",
     "height": 3494
    },
    "colab_type": "code",
    "executionInfo": {
     "elapsed": 4849330,
     "status": "ok",
     "timestamp": 1554535461421,
     "user": {
      "displayName": "DAVID SUN",
      "photoUrl": "",
      "userId": "04535500568104874807"
     },
     "user_tz": 360
    },
    "id": "8iTnY2OIKYdn",
    "outputId": "76c2a1fb-9b2a-473c-e8ac-43137fc46d0f"
   },
   "outputs": [
    {
     "name": "stdout",
     "output_type": "stream",
     "text": [
      "Using TensorFlow backend.\n",
      "WARNING:tensorflow:From /usr/local/lib/python3.6/dist-packages/tensorflow/python/framework/op_def_library.py:263: colocate_with (from tensorflow.python.framework.ops) is deprecated and will be removed in a future version.\n",
      "Instructions for updating:\n",
      "Colocations handled automatically by placer.\n",
      "WARNING:tensorflow:From /usr/local/lib/python3.6/dist-packages/keras/backend/tensorflow_backend.py:3445: calling dropout (from tensorflow.python.ops.nn_ops) with keep_prob is deprecated and will be removed in a future version.\n",
      "Instructions for updating:\n",
      "Please use `rate` instead of `keep_prob`. Rate should be set to `rate = 1 - keep_prob`.\n",
      "_________________________________________________________________\n",
      "Layer (type)                 Output Shape              Param #   \n",
      "=================================================================\n",
      "lstm_1 (LSTM)                (None, 64)                23552     \n",
      "_________________________________________________________________\n",
      "dropout_1 (Dropout)          (None, 64)                0         \n",
      "_________________________________________________________________\n",
      "dense_1 (Dense)              (None, 27)                1755      \n",
      "_________________________________________________________________\n",
      "activation_1 (Activation)    (None, 27)                0         \n",
      "=================================================================\n",
      "Total params: 25,307\n",
      "Trainable params: 25,307\n",
      "Non-trainable params: 0\n",
      "_________________________________________________________________\n",
      "WARNING:tensorflow:From /usr/local/lib/python3.6/dist-packages/tensorflow/python/ops/math_ops.py:3066: to_int32 (from tensorflow.python.ops.math_ops) is deprecated and will be removed in a future version.\n",
      "Instructions for updating:\n",
      "Use tf.cast instead.\n",
      "Train on 166374 samples, validate on 55458 samples\n",
      "Epoch 1/100\n",
      "2019-04-06 03:56:18.970477: I tensorflow/core/platform/profile_utils/cpu_utils.cc:94] CPU Frequency: 2200000000 Hz\n",
      "2019-04-06 03:56:18.970810: I tensorflow/compiler/xla/service/service.cc:150] XLA service 0x33a31e0 executing computations on platform Host. Devices:\n",
      "2019-04-06 03:56:18.970850: I tensorflow/compiler/xla/service/service.cc:158]   StreamExecutor device (0): <undefined>, <undefined>\n",
      "2019-04-06 03:56:19.130187: I tensorflow/stream_executor/cuda/cuda_gpu_executor.cc:998] successful NUMA node read from SysFS had negative value (-1), but there must be at least one NUMA node, so returning NUMA node zero\n",
      "2019-04-06 03:56:19.130722: I tensorflow/compiler/xla/service/service.cc:150] XLA service 0x33a3b80 executing computations on platform CUDA. Devices:\n",
      "2019-04-06 03:56:19.130768: I tensorflow/compiler/xla/service/service.cc:158]   StreamExecutor device (0): Tesla K80, Compute Capability 3.7\n",
      "2019-04-06 03:56:19.131172: I tensorflow/core/common_runtime/gpu/gpu_device.cc:1433] Found device 0 with properties: \n",
      "name: Tesla K80 major: 3 minor: 7 memoryClockRate(GHz): 0.8235\n",
      "pciBusID: 0000:00:04.0\n",
      "totalMemory: 11.17GiB freeMemory: 11.10GiB\n",
      "2019-04-06 03:56:19.131207: I tensorflow/core/common_runtime/gpu/gpu_device.cc:1512] Adding visible gpu devices: 0\n",
      "2019-04-06 03:56:20.461805: I tensorflow/core/common_runtime/gpu/gpu_device.cc:984] Device interconnect StreamExecutor with strength 1 edge matrix:\n",
      "2019-04-06 03:56:20.461876: I tensorflow/core/common_runtime/gpu/gpu_device.cc:990]      0 \n",
      "2019-04-06 03:56:20.461921: I tensorflow/core/common_runtime/gpu/gpu_device.cc:1003] 0:   N \n",
      "2019-04-06 03:56:20.462205: W tensorflow/core/common_runtime/gpu/gpu_bfc_allocator.cc:42] Overriding allow_growth setting because the TF_FORCE_GPU_ALLOW_GROWTH environment variable is set. Original config value was 0.\n",
      "2019-04-06 03:56:20.462319: I tensorflow/core/common_runtime/gpu/gpu_device.cc:1115] Created TensorFlow device (/job:localhost/replica:0/task:0/device:GPU:0 with 10754 MB memory) -> physical GPU (device: 0, name: Tesla K80, pci bus id: 0000:00:04.0, compute capability: 3.7)\n",
      "2019-04-06 03:56:21.109433: I tensorflow/stream_executor/dso_loader.cc:152] successfully opened CUDA library libcublas.so.10.0 locally\n",
      "166374/166374 [==============================] - 127s 766us/step - loss: 1.8904 - acc: 0.4413 - val_loss: 1.6622 - val_acc: 0.5011\n",
      "Epoch 2/100\n",
      "166374/166374 [==============================] - 125s 754us/step - loss: 1.6393 - acc: 0.5096 - val_loss: 1.5753 - val_acc: 0.5261\n",
      "Epoch 3/100\n",
      "166374/166374 [==============================] - 126s 755us/step - loss: 1.5707 - acc: 0.5296 - val_loss: 1.5324 - val_acc: 0.5384\n",
      "Epoch 4/100\n",
      "166374/166374 [==============================] - 125s 752us/step - loss: 1.5305 - acc: 0.5405 - val_loss: 1.5174 - val_acc: 0.5453\n",
      "Epoch 5/100\n",
      "166374/166374 [==============================] - 125s 752us/step - loss: 1.5037 - acc: 0.5480 - val_loss: 1.5020 - val_acc: 0.5467\n",
      "Epoch 6/100\n",
      "166374/166374 [==============================] - 125s 750us/step - loss: 1.4848 - acc: 0.5535 - val_loss: 1.4949 - val_acc: 0.5512\n",
      "Epoch 7/100\n",
      "166374/166374 [==============================] - 125s 752us/step - loss: 1.4682 - acc: 0.5579 - val_loss: 1.4832 - val_acc: 0.5558\n",
      "Epoch 8/100\n",
      "166374/166374 [==============================] - 126s 756us/step - loss: 1.4562 - acc: 0.5616 - val_loss: 1.4848 - val_acc: 0.5543\n",
      "Epoch 9/100\n",
      "166374/166374 [==============================] - 125s 751us/step - loss: 1.4474 - acc: 0.5641 - val_loss: 1.4784 - val_acc: 0.5565\n",
      "Epoch 10/100\n",
      "166374/166374 [==============================] - 126s 755us/step - loss: 1.4380 - acc: 0.5661 - val_loss: 1.4787 - val_acc: 0.5584\n",
      "Epoch 11/100\n",
      "166374/166374 [==============================] - 125s 754us/step - loss: 1.4305 - acc: 0.5684 - val_loss: 1.4728 - val_acc: 0.5586\n",
      "Epoch 12/100\n",
      "166374/166374 [==============================] - 126s 755us/step - loss: 1.4235 - acc: 0.5703 - val_loss: 1.4730 - val_acc: 0.5566\n",
      "Epoch 13/100\n",
      "166374/166374 [==============================] - 125s 754us/step - loss: 1.4131 - acc: 0.5734 - val_loss: 1.4718 - val_acc: 0.5600\n",
      "Epoch 14/100\n",
      "166374/166374 [==============================] - 125s 751us/step - loss: 1.4083 - acc: 0.5746 - val_loss: 1.4638 - val_acc: 0.5602\n",
      "Epoch 15/100\n",
      "166374/166374 [==============================] - 125s 752us/step - loss: 1.4043 - acc: 0.5756 - val_loss: 1.4681 - val_acc: 0.5587\n",
      "Epoch 16/100\n",
      "166374/166374 [==============================] - 125s 752us/step - loss: 1.3990 - acc: 0.5769 - val_loss: 1.4693 - val_acc: 0.5597\n",
      "Epoch 17/100\n",
      "166374/166374 [==============================] - 125s 753us/step - loss: 1.3941 - acc: 0.5792 - val_loss: 1.4705 - val_acc: 0.5587\n",
      "Epoch 18/100\n",
      "166374/166374 [==============================] - 125s 751us/step - loss: 1.3896 - acc: 0.5790 - val_loss: 1.4678 - val_acc: 0.5622\n",
      "Epoch 19/100\n",
      "166374/166374 [==============================] - 125s 749us/step - loss: 1.3875 - acc: 0.5803 - val_loss: 1.4637 - val_acc: 0.5616\n",
      "Epoch 20/100\n",
      "166374/166374 [==============================] - 125s 752us/step - loss: 1.3825 - acc: 0.5816 - val_loss: 1.4628 - val_acc: 0.5624\n",
      "Epoch 21/100\n",
      "166374/166374 [==============================] - 125s 749us/step - loss: 1.3780 - acc: 0.5835 - val_loss: 1.4651 - val_acc: 0.5613\n",
      "Epoch 22/100\n",
      "166374/166374 [==============================] - 125s 753us/step - loss: 1.3750 - acc: 0.5845 - val_loss: 1.4691 - val_acc: 0.5594\n",
      "Epoch 23/100\n",
      "166374/166374 [==============================] - 125s 752us/step - loss: 1.3706 - acc: 0.5849 - val_loss: 1.4643 - val_acc: 0.5624\n",
      "Epoch 24/100\n",
      "166374/166374 [==============================] - 125s 750us/step - loss: 1.3684 - acc: 0.5865 - val_loss: 1.4703 - val_acc: 0.5605\n",
      "Epoch 25/100\n",
      "166374/166374 [==============================] - 125s 753us/step - loss: 1.3649 - acc: 0.5858 - val_loss: 1.4696 - val_acc: 0.5628\n",
      "Epoch 26/100\n",
      "166374/166374 [==============================] - 124s 746us/step - loss: 1.3644 - acc: 0.5862 - val_loss: 1.4648 - val_acc: 0.5618\n",
      "Epoch 27/100\n",
      "166374/166374 [==============================] - 124s 748us/step - loss: 1.3600 - acc: 0.5879 - val_loss: 1.4709 - val_acc: 0.5610\n",
      "Epoch 28/100\n",
      "166374/166374 [==============================] - 125s 751us/step - loss: 1.3580 - acc: 0.5892 - val_loss: 1.4672 - val_acc: 0.5612\n",
      "Epoch 29/100\n",
      "166374/166374 [==============================] - 128s 771us/step - loss: 1.3574 - acc: 0.5886 - val_loss: 1.4699 - val_acc: 0.5616\n",
      "Epoch 30/100\n",
      "166374/166374 [==============================] - 126s 756us/step - loss: 1.3521 - acc: 0.5889 - val_loss: 1.4719 - val_acc: 0.5622\n",
      "Epoch 31/100\n",
      "166374/166374 [==============================] - 125s 753us/step - loss: 1.3507 - acc: 0.5899 - val_loss: 1.4701 - val_acc: 0.5618\n",
      "Epoch 32/100\n",
      "166374/166374 [==============================] - 126s 755us/step - loss: 1.3508 - acc: 0.5903 - val_loss: 1.4715 - val_acc: 0.5608\n",
      "Epoch 33/100\n",
      "166374/166374 [==============================] - 124s 748us/step - loss: 1.3478 - acc: 0.5920 - val_loss: 1.4754 - val_acc: 0.5610\n",
      "Epoch 34/100\n",
      "166374/166374 [==============================] - 125s 754us/step - loss: 1.3477 - acc: 0.5922 - val_loss: 1.4737 - val_acc: 0.5609\n",
      "Epoch 35/100\n",
      "166374/166374 [==============================] - 125s 753us/step - loss: 1.3436 - acc: 0.5916 - val_loss: 1.4752 - val_acc: 0.5609\n",
      "Epoch 36/100\n",
      "166374/166374 [==============================] - 125s 753us/step - loss: 1.3433 - acc: 0.5929 - val_loss: 1.4736 - val_acc: 0.5631\n",
      "Epoch 37/100\n",
      "166374/166374 [==============================] - 125s 753us/step - loss: 1.3414 - acc: 0.5940 - val_loss: 1.4758 - val_acc: 0.5626\n",
      "Epoch 38/100\n",
      "166374/166374 [==============================] - 125s 753us/step - loss: 1.3392 - acc: 0.5938 - val_loss: 1.4790 - val_acc: 0.5604\n",
      "Epoch 39/100\n",
      "166374/166374 [==============================] - 125s 752us/step - loss: 1.3385 - acc: 0.5951 - val_loss: 1.4742 - val_acc: 0.5615\n",
      "Epoch 40/100\n",
      "166374/166374 [==============================] - 125s 752us/step - loss: 1.3383 - acc: 0.5947 - val_loss: 1.4770 - val_acc: 0.5622\n",
      "Epoch 41/100\n",
      "166374/166374 [==============================] - 124s 748us/step - loss: 1.3328 - acc: 0.5953 - val_loss: 1.4767 - val_acc: 0.5602\n",
      "Epoch 42/100\n",
      "166374/166374 [==============================] - 124s 746us/step - loss: 1.3336 - acc: 0.5952 - val_loss: 1.4782 - val_acc: 0.5613\n",
      "Epoch 43/100\n",
      "166374/166374 [==============================] - 125s 750us/step - loss: 1.3323 - acc: 0.5954 - val_loss: 1.4764 - val_acc: 0.5625\n",
      "Epoch 44/100\n",
      "166374/166374 [==============================] - 125s 752us/step - loss: 1.3313 - acc: 0.5956 - val_loss: 1.4791 - val_acc: 0.5606\n",
      "Epoch 45/100\n",
      "166374/166374 [==============================] - 125s 751us/step - loss: 1.3312 - acc: 0.5955 - val_loss: 1.4807 - val_acc: 0.5603\n",
      "Epoch 46/100\n",
      "166374/166374 [==============================] - 125s 752us/step - loss: 1.3292 - acc: 0.5961 - val_loss: 1.4816 - val_acc: 0.5607\n",
      "Epoch 47/100\n",
      "166374/166374 [==============================] - 125s 751us/step - loss: 1.3272 - acc: 0.5967 - val_loss: 1.4801 - val_acc: 0.5596\n",
      "Epoch 48/100\n",
      "166374/166374 [==============================] - 125s 749us/step - loss: 1.3252 - acc: 0.5974 - val_loss: 1.4846 - val_acc: 0.5596\n",
      "Epoch 49/100\n",
      "166374/166374 [==============================] - 125s 749us/step - loss: 1.3236 - acc: 0.5978 - val_loss: 1.4841 - val_acc: 0.5601\n",
      "Epoch 50/100\n",
      "166374/166374 [==============================] - 124s 748us/step - loss: 1.3263 - acc: 0.5980 - val_loss: 1.4841 - val_acc: 0.5592\n",
      "Epoch 51/100\n",
      "166374/166374 [==============================] - 124s 748us/step - loss: 1.3241 - acc: 0.5974 - val_loss: 1.4826 - val_acc: 0.5611\n",
      "Epoch 52/100\n",
      "166374/166374 [==============================] - 124s 746us/step - loss: 1.3233 - acc: 0.5987 - val_loss: 1.4832 - val_acc: 0.5616\n",
      "Epoch 53/100\n",
      "166374/166374 [==============================] - 124s 747us/step - loss: 1.3222 - acc: 0.5977 - val_loss: 1.4868 - val_acc: 0.5590\n",
      "Epoch 54/100\n",
      "166374/166374 [==============================] - 125s 750us/step - loss: 1.3195 - acc: 0.5981 - val_loss: 1.4826 - val_acc: 0.5609\n",
      "Epoch 55/100\n",
      "166374/166374 [==============================] - 124s 748us/step - loss: 1.3194 - acc: 0.5989 - val_loss: 1.4854 - val_acc: 0.5614\n",
      "Epoch 56/100\n",
      "166374/166374 [==============================] - 124s 748us/step - loss: 1.3179 - acc: 0.5999 - val_loss: 1.4852 - val_acc: 0.5599\n",
      "Epoch 57/100\n",
      "166374/166374 [==============================] - 125s 748us/step - loss: 1.3159 - acc: 0.5999 - val_loss: 1.4847 - val_acc: 0.5600\n",
      "Epoch 58/100\n",
      "166374/166374 [==============================] - 124s 743us/step - loss: 1.3171 - acc: 0.6004 - val_loss: 1.4858 - val_acc: 0.5597\n",
      "Epoch 59/100\n",
      "166374/166374 [==============================] - 122s 736us/step - loss: 1.3121 - acc: 0.6001 - val_loss: 1.4861 - val_acc: 0.5597\n",
      "Epoch 60/100\n",
      "166374/166374 [==============================] - 123s 738us/step - loss: 1.3133 - acc: 0.6001 - val_loss: 1.4849 - val_acc: 0.5610\n",
      "Epoch 61/100\n",
      "166374/166374 [==============================] - 122s 736us/step - loss: 1.3126 - acc: 0.6013 - val_loss: 1.4884 - val_acc: 0.5602\n",
      "Epoch 62/100\n",
      "166374/166374 [==============================] - 132s 792us/step - loss: 1.3125 - acc: 0.6003 - val_loss: 1.4887 - val_acc: 0.5596\n",
      "Epoch 63/100\n",
      "166374/166374 [==============================] - 124s 746us/step - loss: 1.3129 - acc: 0.6000 - val_loss: 1.4867 - val_acc: 0.5588\n",
      "Epoch 64/100\n",
      "166374/166374 [==============================] - 124s 748us/step - loss: 1.3125 - acc: 0.6013 - val_loss: 1.4913 - val_acc: 0.5598\n",
      "Epoch 65/100\n",
      "166374/166374 [==============================] - 124s 748us/step - loss: 1.3089 - acc: 0.6021 - val_loss: 1.4900 - val_acc: 0.5601\n",
      "Epoch 66/100\n",
      "166374/166374 [==============================] - 124s 748us/step - loss: 1.3083 - acc: 0.6018 - val_loss: 1.4907 - val_acc: 0.5599\n",
      "Epoch 67/100\n",
      "166374/166374 [==============================] - 125s 749us/step - loss: 1.3102 - acc: 0.6017 - val_loss: 1.4926 - val_acc: 0.5591\n",
      "Epoch 68/100\n",
      "166374/166374 [==============================] - 124s 746us/step - loss: 1.3095 - acc: 0.6017 - val_loss: 1.4915 - val_acc: 0.5592\n",
      "Epoch 69/100\n",
      "166374/166374 [==============================] - 125s 752us/step - loss: 1.3048 - acc: 0.6021 - val_loss: 1.4924 - val_acc: 0.5588\n",
      "Epoch 70/100\n",
      "166374/166374 [==============================] - 125s 751us/step - loss: 1.3067 - acc: 0.6022 - val_loss: 1.4935 - val_acc: 0.5594\n",
      "Epoch 71/100\n",
      "166374/166374 [==============================] - 124s 748us/step - loss: 1.3070 - acc: 0.6017 - val_loss: 1.4941 - val_acc: 0.5586\n",
      "Epoch 72/100\n",
      "166374/166374 [==============================] - 125s 751us/step - loss: 1.3050 - acc: 0.6030 - val_loss: 1.4924 - val_acc: 0.5594\n",
      "Epoch 73/100\n",
      "166374/166374 [==============================] - 124s 747us/step - loss: 1.3048 - acc: 0.6029 - val_loss: 1.4946 - val_acc: 0.5588\n",
      "Epoch 74/100\n",
      "166374/166374 [==============================] - 125s 750us/step - loss: 1.3028 - acc: 0.6042 - val_loss: 1.4935 - val_acc: 0.5585\n",
      "Epoch 75/100\n",
      "166374/166374 [==============================] - 125s 750us/step - loss: 1.3020 - acc: 0.6040 - val_loss: 1.4950 - val_acc: 0.5586\n",
      "Epoch 76/100\n",
      "166374/166374 [==============================] - 125s 749us/step - loss: 1.3036 - acc: 0.6027 - val_loss: 1.4941 - val_acc: 0.5582\n",
      "Epoch 77/100\n",
      "166374/166374 [==============================] - 125s 751us/step - loss: 1.3007 - acc: 0.6036 - val_loss: 1.4949 - val_acc: 0.5598\n",
      "Epoch 78/100\n",
      "166374/166374 [==============================] - 125s 750us/step - loss: 1.3002 - acc: 0.6054 - val_loss: 1.4973 - val_acc: 0.5591\n",
      "Epoch 79/100\n",
      "166374/166374 [==============================] - 125s 752us/step - loss: 1.3011 - acc: 0.6040 - val_loss: 1.4940 - val_acc: 0.5591\n",
      "Epoch 80/100\n",
      "166374/166374 [==============================] - 125s 751us/step - loss: 1.2990 - acc: 0.6052 - val_loss: 1.4969 - val_acc: 0.5593\n",
      "Epoch 81/100\n",
      " 17664/166374 [==>...........................] - ETA: 1:39 - loss: 1.2973 - acc: 0.6013Buffered data was truncated after reaching the output size limit."
     ]
    }
   ],
   "source": [
    "!python main1.py"
   ]
  },
  {
   "cell_type": "code",
   "execution_count": 0,
   "metadata": {
    "colab": {
     "base_uri": "https://localhost:8080/",
     "height": 34
    },
    "colab_type": "code",
    "executionInfo": {
     "elapsed": 2113,
     "status": "ok",
     "timestamp": 1554259473433,
     "user": {
      "displayName": "DAVID SUN",
      "photoUrl": "",
      "userId": "04535500568104874807"
     },
     "user_tz": 360
    },
    "id": "0xATnK1cvhO6",
    "outputId": "7518b965-5061-4c44-a385-493cea5e980b"
   },
   "outputs": [
    {
     "data": {
      "text/plain": [
       "'/content/gdrive/My Drive/519project'"
      ]
     },
     "execution_count": 6,
     "metadata": {
      "tags": []
     },
     "output_type": "execute_result"
    }
   ],
   "source": [
    "0pwd"
   ]
  },
  {
   "cell_type": "code",
   "execution_count": 0,
   "metadata": {
    "colab": {
     "base_uri": "https://localhost:8080/",
     "height": 70
    },
    "colab_type": "code",
    "executionInfo": {
     "elapsed": 910,
     "status": "ok",
     "timestamp": 1554320543404,
     "user": {
      "displayName": "DAVID SUN",
      "photoUrl": "",
      "userId": "04535500568104874807"
     },
     "user_tz": 360
    },
    "id": "irN-TGc5MsRz",
    "outputId": "98ae51f5-faa9-4856-9376-9bc79541a9bd"
   },
   "outputs": [
    {
     "data": {
      "text/plain": [
       "array({'val_loss': [1.6291722853441641, 1.527107980564179, 1.477198185762242, 1.4645409752675609, 1.4709036149538863, 1.471074745765218, 1.49901151416603, 1.495145437821154, 1.5016154179602692, 1.5078754423309486, 1.5166053796259011, 1.5254347388748435, 1.5415671129436264, 1.5482177082218695, 1.5554652494878733, 1.558425878050477, 1.5740324690289769, 1.5735532519817996, 1.585429318874771, 1.5954853435663408, 1.6016340890317675, 1.6169665673246558, 1.6225353610737843, 1.632197400143498, 1.637515497113159, 1.647236802235902, 1.6443685166418986, 1.663839211973276, 1.667262970060204, 1.6803157487442115, 1.6798429724762787, 1.686946575158267, 1.6941992508165795, 1.7102131676590142, 1.7083122027282145, 1.715409671677283, 1.7217134190015855, 1.7384271997981573, 1.7430032098077497, 1.7569455366783997, 1.760192963865054, 1.767186833149483, 1.7863016895503598, 1.7901746445020812, 1.787320974435096, 1.7924658071519146, 1.8017311344595093, 1.8210157391746484, 1.817253307169712, 1.8315800424353514, 1.8324529443229092, 1.843849816552521, 1.8434035191844735, 1.8489006450688807, 1.8583034078849174, 1.8666634872777177, 1.8790213426469544, 1.8807211689741603, 1.8810301509427882, 1.8989420983444127, 1.8981046969424837, 1.9090067011101293, 1.905984538466632, 1.916358143164748, 1.9196813383371263, 1.9303832376539025, 1.9335495706271515, 1.938926468573636, 1.952206855261314, 1.9586499026967719, 1.9633054030689905, 1.9654958614151639, 1.9740311480466068, 1.98017882807109, 1.9818072685387547, 1.996183517605595, 2.000560330648868, 2.0165989733317797, 2.0094829716962015, 2.015362088881902, 2.0406346828864734, 2.0325750491216055, 2.046180376074158, 2.047492796090834, 2.0556085310293235, 2.054269919390723, 2.0622582186130556, 2.069669175787916, 2.0807427381165744, 2.0759878690571525, 2.088155991818726, 2.087846634946921, 2.0936196621372862, 2.0982756336862884, 2.107105005342531, 2.1235177341177907, 2.1176639252328275, 2.1286690264513477, 2.1174584095449926, 2.137168633629693], 'val_acc': [0.5143294605544846, 0.5410249482529943, 0.5555435468278082, 0.5627668198160166, 0.5610735837515438, 0.564189858631133, 0.5593443213867989, 0.5636134378428846, 0.562856885559718, 0.5629109250128103, 0.5627668198138693, 0.565522831702548, 0.5610555705997973, 0.5641178060305888, 0.5611456363467197, 0.5613978204464769, 0.5617040439842951, 0.5620823201301731, 0.5591641898951014, 0.5598667027251759, 0.5620643069784266, 0.5594524002843941, 0.5577591642220686, 0.5600648473761355, 0.5594163739884167, 0.5560118887087981, 0.5607673602051363, 0.557615059028496, 0.5596145186318606, 0.5581554535153985, 0.5577951905234144, 0.5577051247754183, 0.5574169143839783, 0.556372151705077, 0.5577411510756904, 0.5567864541458587, 0.5566783752407478, 0.5553273890272493, 0.5559038098079819, 0.5545528235998517, 0.5541385211504806, 0.5532919031193179, 0.5533819688630192, 0.5522291272940383, 0.5523552193412328, 0.553562100366527, 0.5499234441474871, 0.5533279294217373, 0.5529136269777345, 0.5514725750119452, 0.5535440872158541, 0.5535080609177293, 0.552931640132702, 0.5537602450088972, 0.5489867603683283, 0.5505178780896293, 0.5507160227330732, 0.5517787985583528, 0.5519769431996494, 0.5488246420240828, 0.548644510527017, 0.551886877452727, 0.5488426551736819, 0.5499414572960126, 0.5513284698162252, 0.5510942988714356, 0.5493650365099116, 0.5490227866718214, 0.5494731154085806, 0.547059353361213, 0.5492389444691592, 0.5505358912338602, 0.5472394848582788, 0.5486264973795651, 0.5457624065954385, 0.5485544447790209, 0.5485724579286202, 0.5454381698994317, 0.546356840523623, 0.5464108799734942, 0.5449157885632021, 0.548734576271792, 0.5444834729685264, 0.5457984328935632, 0.5446275781685411, 0.5460506169858048, 0.5442673151787043, 0.5463568405257703, 0.5436548680848156, 0.5447356570618417, 0.5437089075368342, 0.5468251824250128, 0.5456183013911291, 0.5475817347017374, 0.5436008286413863, 0.5443573809202583, 0.5445735387154488, 0.5449698280098524, 0.5483202738310102, 0.5432765919518215], 'loss': [2.0766349466207643, 1.4645309485634892, 1.3512620764665175, 1.280747089978987, 1.2280882789033112, 1.1894477043139657, 1.1571636852440992, 1.1302368344070008, 1.1058110841148336, 1.0846780945941887, 1.0665780781889314, 1.0490154669008283, 1.0354355959907076, 1.0216649868312757, 1.0072404802689106, 0.9940835195472048, 0.9838531330868213, 0.9727103746490007, 0.9623468104453604, 0.9526173749119624, 0.9435686956174595, 0.9358913283607112, 0.9266354651708307, 0.919470850328908, 0.9098462870863946, 0.9027069490932508, 0.895126486010618, 0.8862376599111895, 0.8803463306647493, 0.8743638060541195, 0.8660211629921897, 0.8601871116766916, 0.8546273137882859, 0.8483941799571771, 0.843019942571537, 0.835487812818155, 0.8297657571839426, 0.8247914942233403, 0.819324972449269, 0.8135800172551046, 0.8084251405764123, 0.8033110330252323, 0.7962202275626725, 0.793006787564994, 0.7870705563161416, 0.7836640279404995, 0.7774974433554168, 0.7740902682277022, 0.7704238335392232, 0.7631555968310186, 0.7597886957206934, 0.7552337704001427, 0.7513557688527078, 0.7477999900664652, 0.7429291765551975, 0.7397543326381086, 0.7340507587517399, 0.7299338655559471, 0.727884911722376, 0.7240379281732536, 0.7190469604997917, 0.7169865053390333, 0.7134227994213505, 0.7089317738961541, 0.7049726363982944, 0.7018422588054561, 0.6987213962261035, 0.6946139398653778, 0.6907083037166656, 0.6868918876333275, 0.6838052200956684, 0.6820986832704167, 0.6783790045876894, 0.6747095810843293, 0.6712310939937227, 0.6679801875852944, 0.6659662971897824, 0.6636013046759612, 0.6598160686474052, 0.6557107098556679, 0.6527015486462687, 0.650415198781818, 0.647798973542055, 0.6446807078635245, 0.6414546878979792, 0.6390112803841747, 0.6356592019808676, 0.6334767753964259, 0.6302841250241351, 0.6277743277856358, 0.6237398886585331, 0.6223152989381115, 0.6212987089752926, 0.618335872274241, 0.6151222251822476, 0.6125943460217345, 0.6107719665264604, 0.6060264579389468, 0.6043316854050451, 0.6007040258859523], 'acc': [0.44988981824603264, 0.5585824681939032, 0.5897756135057577, 0.6107251580690753, 0.6246554943782592, 0.6367124406327376, 0.6456170478520096, 0.6546297352646393, 0.6616849702481029, 0.6672871270507751, 0.6727151546461779, 0.6787316188619108, 0.6833070138060322, 0.6884108008167094, 0.692481821513351, 0.6955380892647378, 0.6986183748366321, 0.7019088163424414, 0.7051031865662203, 0.7082495211450472, 0.7107533790079391, 0.7129329962853895, 0.7159172105720326, 0.7181088367583052, 0.7219276703335332, 0.7239091405841015, 0.7258365707369173, 0.7284545132499043, 0.7304419879561364, 0.7323393958331387, 0.7342608215310065, 0.7357379175362424, 0.7367586749393084, 0.7407276198953929, 0.7421506758028762, 0.7443663198107301, 0.7460055361088657, 0.7471583915279443, 0.7485694385251738, 0.7509291894591151, 0.7528085839703789, 0.7547480230352379, 0.7569996937738531, 0.7579363888022794, 0.7591432843183947, 0.7608425451710203, 0.7626198639411901, 0.7633223852116151, 0.7640068931161227, 0.7666188311745197, 0.7672733168021401, 0.7690326222067503, 0.7709300300830368, 0.7709420389940065, 0.7722750280729759, 0.7736920795240797, 0.7754934161169045, 0.7772046858787102, 0.7766402670792457, 0.7785737016877252, 0.7805851942144647, 0.7815459070644724, 0.7820142545783276, 0.7834373104854531, 0.7844280456102004, 0.7858691148846749, 0.7866977297172383, 0.7879346475088091, 0.7887452489761708, 0.7913511825781883, 0.7910629687235081, 0.7916273875233305, 0.7932005548138176, 0.7937409557906272, 0.7950078958598008, 0.796214791376274, 0.7962388091967817, 0.7973796557056064, 0.798976840817317, 0.7997454110964641, 0.8009042709697748, 0.8014326630366885, 0.8027476387493826, 0.8024654293485767, 0.8045850020722529, 0.8055457149219025, 0.8066505346974607, 0.8071609133995306, 0.8078033901165393, 0.8089142143488349, 0.8096467578943576, 0.809844904920166, 0.8111538761764806, 0.8120545444730719, 0.8125108830763155, 0.8140480236335361, 0.8147745627262581, 0.8157232666642225, 0.8162156320010906, 0.817722750281782]},\n",
       "      dtype=object)"
      ]
     },
     "execution_count": 4,
     "metadata": {
      "tags": []
     },
     "output_type": "execute_result"
    }
   ],
   "source": [
    "\n",
    "h"
   ]
  },
  {
   "cell_type": "code",
   "execution_count": 0,
   "metadata": {
    "colab": {
     "base_uri": "https://localhost:8080/",
     "height": 279
    },
    "colab_type": "code",
    "executionInfo": {
     "elapsed": 4016,
     "status": "ok",
     "timestamp": 1554758321695,
     "user": {
      "displayName": "DAVID SUN",
      "photoUrl": "",
      "userId": "04535500568104874807"
     },
     "user_tz": 360
    },
    "id": "ChZW-xNoHs3j",
    "outputId": "5995585f-0f11-4db1-94a5-f1e8e291b1db"
   },
   "outputs": [
    {
     "data": {
      "image/png": "[encoded data removed]",
      "text/plain": [
       "<Figure size 432x288 with 1 Axes>"
      ]
     },
     "metadata": {
      "tags": []
     },
     "output_type": "display_data"
    }
   ],
   "source": [
    "import matplotlib.pyplot as plt\n",
    "import numpy as np\n",
    "%matplotlib inline\n",
    "h = np.load('model_overfitting/hist.npy')\n",
    "labels = []\n",
    "values = []\n",
    "for i,j in h.tolist().items():\n",
    "  labels.append(i)\n",
    "  values.append(j)\n",
    "plt.plot(range(100),values[0],range(100),values[1],range(100),values[2],range(100),values[3])\n",
    "plt.legend(labels=labels)\n",
    "plt.xlabel('epochs')\n",
    "plt.show()"
   ]
  },
  {
   "cell_type": "code",
   "execution_count": 0,
   "metadata": {
    "colab": {
     "base_uri": "https://localhost:8080/",
     "height": 279
    },
    "colab_type": "code",
    "executionInfo": {
     "elapsed": 1250,
     "status": "ok",
     "timestamp": 1554772861210,
     "user": {
      "displayName": "DAVID SUN",
      "photoUrl": "",
      "userId": "04535500568104874807"
     },
     "user_tz": 360
    },
    "id": "jO1G0OsROWLE",
    "outputId": "b0acfd98-0473-4f87-a755-802fdb2e3f56"
   },
   "outputs": [
    {
     "data": {
      "image/png": "[encoded data removed]",
      "text/plain": [
       "<Figure size 432x288 with 1 Axes>"
      ]
     },
     "metadata": {
      "tags": []
     },
     "output_type": "display_data"
    }
   ],
   "source": [
    "import matplotlib.pyplot as plt\n",
    "import numpy as np\n",
    "%matplotlib inline\n",
    "h = np.load('model_best/hist.npy')\n",
    "labels = []\n",
    "values = []\n",
    "for i,j in h.tolist().items():\n",
    "  labels.append(i)\n",
    "  values.append(j)\n",
    "plt.plot(range(100),values[0],range(100),values[1],range(100),values[2],range(100),values[3])\n",
    "# plt.yticks(0.5,2,0.25)\n",
    "plt.legend(labels=labels)\n",
    "plt.xlabel('epochs')\n",
    "plt.show()"
   ]
  },
  {
   "cell_type": "code",
   "execution_count": 0,
   "metadata": {
    "colab": {
     "base_uri": "https://localhost:8080/",
     "height": 1697
    },
    "colab_type": "code",
    "executionInfo": {
     "elapsed": 1014,
     "status": "ok",
     "timestamp": 1554773011270,
     "user": {
      "displayName": "DAVID SUN",
      "photoUrl": "",
      "userId": "04535500568104874807"
     },
     "user_tz": 360
    },
    "id": "KRoSSBL9ry11",
    "outputId": "7bc1afbb-fc03-4025-e25d-644b21957d0e"
   },
   "outputs": [
    {
     "data": {
      "text/plain": [
       "[0.5010638681696721,\n",
       " 0.5260918172310577,\n",
       " 0.5384435067979372,\n",
       " 0.5453496339572289,\n",
       " 0.5467020087273252,\n",
       " 0.5512459879548487,\n",
       " 0.5557899671823723,\n",
       " 0.554293339120662,\n",
       " 0.5565292654072213,\n",
       " 0.5583865267388076,\n",
       " 0.5585848750384217,\n",
       " 0.5565833603958755,\n",
       " 0.5600274081265244,\n",
       " 0.5602077247797336,\n",
       " 0.558675033371475,\n",
       " 0.5596848065181,\n",
       " 0.5587110966836307,\n",
       " 0.5622092394222797,\n",
       " 0.5615781311940853,\n",
       " 0.5624075877218939,\n",
       " 0.5612715929128634,\n",
       " 0.5593962999004795,\n",
       " 0.5623715244097381,\n",
       " 0.5604601680701515,\n",
       " 0.5627862526747172,\n",
       " 0.5617584478515936,\n",
       " 0.560983086295243,\n",
       " 0.5612174979242092,\n",
       " 0.5615781312112816,\n",
       " 0.5621731760886286,\n",
       " 0.5618305744866527,\n",
       " 0.5608027696764264,\n",
       " 0.5610011179781901,\n",
       " 0.5608568646693798,\n",
       " 0.5608929279922833,\n",
       " 0.5630927909537895,\n",
       " 0.5626419993637574,\n",
       " 0.560388041394251,\n",
       " 0.5615420678819295,\n",
       " 0.5621731760907781,\n",
       " 0.5601716614503814,\n",
       " 0.561253561268608,\n",
       " 0.5624977460549471,\n",
       " 0.5606404846868185,\n",
       " 0.560333946422793,\n",
       " 0.5606945796948187,\n",
       " 0.559630711542343,\n",
       " 0.5595585848879379,\n",
       " 0.5600634714687738,\n",
       " 0.5592159832795134,\n",
       " 0.561055212968994,\n",
       " 0.5615961628748829,\n",
       " 0.559017634962703,\n",
       " 0.5608748963114857,\n",
       " 0.5614158462367205,\n",
       " 0.5598831548134151,\n",
       " 0.560009376458624,\n",
       " 0.5597389015046048,\n",
       " 0.5596667748695455,\n",
       " 0.5610011179566946,\n",
       " 0.5602257564390358,\n",
       " 0.5596126798593958,\n",
       " 0.5588373183245406,\n",
       " 0.5598290598398076,\n",
       " 0.5601175664595777,\n",
       " 0.5599011864963622,\n",
       " 0.5590717299685536,\n",
       " 0.5592340149431148,\n",
       " 0.5588373183245406,\n",
       " 0.5593602365861742,\n",
       " 0.5586029067170698,\n",
       " 0.5594143315597817,\n",
       " 0.5587832233337368,\n",
       " 0.5585488117241164,\n",
       " 0.5586389700399733,\n",
       " 0.5581881784348943,\n",
       " 0.5597749648296578,\n",
       " 0.5590536983049523,\n",
       " 0.559053698287756,\n",
       " 0.5593061415781739,\n",
       " 0.5587291283601292,\n",
       " 0.5570161203201568,\n",
       " 0.5581881784542403,\n",
       " 0.5580619567896854,\n",
       " 0.5581701467734427,\n",
       " 0.5570521836430603,\n",
       " 0.5589455083039988,\n",
       " 0.5580980201147384,\n",
       " 0.5575390385645941,\n",
       " 0.5586570016906773,\n",
       " 0.5588733816538927,\n",
       " 0.5593782682519249,\n",
       " 0.556835803684144,\n",
       " 0.5580258934818287,\n",
       " 0.5586389700249265,\n",
       " 0.5585127483990634,\n",
       " 0.5584947167333125,\n",
       " 0.5593061415781739,\n",
       " 0.557214468600425,\n",
       " 0.5601536297867802]"
      ]
     },
     "execution_count": 7,
     "metadata": {
      "tags": []
     },
     "output_type": "execute_result"
    }
   ],
   "source": [
    "values[1]"
   ]
  },
  {
   "cell_type": "code",
   "execution_count": 0,
   "metadata": {
    "colab": {
     "base_uri": "https://localhost:8080/",
     "height": 279
    },
    "colab_type": "code",
    "executionInfo": {
     "elapsed": 3308,
     "status": "ok",
     "timestamp": 1554758269686,
     "user": {
      "displayName": "DAVID SUN",
      "photoUrl": "",
      "userId": "04535500568104874807"
     },
     "user_tz": 360
    },
    "id": "R4irDpGTRuv8",
    "outputId": "ee95c810-28e6-4ac0-8345-7ebc423ff26a"
   },
   "outputs": [
    {
     "data": {
      "image/png": "[encoded data removed]",
      "text/plain": [
       "<Figure size 432x288 with 1 Axes>"
      ]
     },
     "metadata": {
      "tags": []
     },
     "output_type": "display_data"
    }
   ],
   "source": [
    "import matplotlib.pyplot as plt\n",
    "import numpy as np\n",
    "%matplotlib inline\n",
    "h = np.load('model0/hist.npy')\n",
    "labels = []\n",
    "values = []\n",
    "for i,j in h.tolist().items():\n",
    "  labels.append(i)\n",
    "  values.append(j)\n",
    "plt.plot(range(100),values[0],range(100),values[1],range(100),values[2],range(100),values[3])\n",
    "# plt.yticks(0.5,2,0.25)\n",
    "plt.legend(labels=labels)\n",
    "plt.xlabel('epochs')\n",
    "plt.show()"
   ]
  },
  {
   "cell_type": "code",
   "execution_count": 0,
   "metadata": {
    "colab": {
     "base_uri": "https://localhost:8080/",
     "height": 34
    },
    "colab_type": "code",
    "executionInfo": {
     "elapsed": 683,
     "status": "ok",
     "timestamp": 1554567167395,
     "user": {
      "displayName": "DAVID SUN",
      "photoUrl": "",
      "userId": "04535500568104874807"
     },
     "user_tz": 360
    },
    "id": "gEtvBRPxHR7k",
    "outputId": "03933fd7-5dc1-48f0-cc24-885453498b19"
   },
   "outputs": [
    {
     "data": {
      "text/plain": [
       "35"
      ]
     },
     "execution_count": 14,
     "metadata": {
      "tags": []
     },
     "output_type": "execute_result"
    }
   ],
   "source": [
    "values[1].index(max(values[1]))"
   ]
  },
  {
   "cell_type": "code",
   "execution_count": 0,
   "metadata": {
    "colab": {},
    "colab_type": "code",
    "id": "MmHpI3e4HpIl"
   },
   "outputs": [],
   "source": [
    "labels = []\n",
    "values = []\n",
    "for i,j in h.tolist().items():\n",
    "  labels.append(i)\n",
    "  values.append(j)"
   ]
  },
  {
   "cell_type": "code",
   "execution_count": 0,
   "metadata": {
    "colab": {
     "base_uri": "https://localhost:8080/",
     "height": 34
    },
    "colab_type": "code",
    "executionInfo": {
     "elapsed": 1533,
     "status": "ok",
     "timestamp": 1554320791223,
     "user": {
      "displayName": "DAVID SUN",
      "photoUrl": "",
      "userId": "04535500568104874807"
     },
     "user_tz": 360
    },
    "id": "ZE2Q4mxtuzWX",
    "outputId": "edf6d96d-8745-409f-b2dc-37886df34426"
   },
   "outputs": [
    {
     "data": {
      "text/plain": [
       "4"
      ]
     },
     "execution_count": 15,
     "metadata": {
      "tags": []
     },
     "output_type": "execute_result"
    }
   ],
   "source": [
    "len(values)"
   ]
  },
  {
   "cell_type": "code",
   "execution_count": 0,
   "metadata": {
    "colab": {},
    "colab_type": "code",
    "id": "8C_hf5cCu89f"
   },
   "outputs": [],
   "source": []
  }
 ],
 "metadata": {
  "accelerator": "GPU",
  "colab": {
   "collapsed_sections": [],
   "name": "myLSTM.ipynb",
   "provenance": [],
   "version": "0.3.2"
  },
  "kernelspec": {
   "display_name": "Python 3",
   "language": "python",
   "name": "python3"
  },
  "language_info": {
   "codemirror_mode": {
    "name": "ipython",
    "version": 3
   },
   "file_extension": ".py",
   "mimetype": "text/x-python",
   "name": "python",
   "nbconvert_exporter": "python",
   "pygments_lexer": "ipython3",
   "version": "3.6.5"
  }
 },
 "nbformat": 4,
 "nbformat_minor": 1
}
